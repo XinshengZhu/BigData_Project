{
 "cells": [
  {
   "cell_type": "code",
   "execution_count": 1,
   "metadata": {},
   "outputs": [
    {
     "name": "stderr",
     "output_type": "stream",
     "text": [
      "Setting default log level to \"WARN\".\n",
      "To adjust logging level use sc.setLogLevel(newLevel). For SparkR, use setLogLevel(newLevel).\n",
      "24/05/08 14:16:57 WARN NativeCodeLoader: Unable to load native-hadoop library for your platform... using builtin-java classes where applicable\n"
     ]
    }
   ],
   "source": [
    "from pyspark import SparkContext, SparkConf\n",
    "from pyspark.sql import SparkSession\n",
    "\n",
    "cf = SparkConf()\n",
    "cf.set(\"spark.submit.deployMode\",\"client\")\n",
    "sc = SparkContext.getOrCreate(cf)\n",
    "\n",
    "spark = SparkSession \\\n",
    "    .builder \\\n",
    "        .appName(\"invalid_values\") \\\n",
    "            .config(\"spark.some.config.option\", \"some-value\") \\\n",
    "                .getOrCreate()"
   ]
  },
  {
   "cell_type": "code",
   "execution_count": 2,
   "metadata": {},
   "outputs": [
    {
     "name": "stderr",
     "output_type": "stream",
     "text": [
      "24/05/08 14:17:00 WARN WindowExec: No Partition Defined for Window operation! Moving all data to a single partition, this can cause serious performance degradation.\n",
      "24/05/08 14:17:00 WARN WindowExec: No Partition Defined for Window operation! Moving all data to a single partition, this can cause serious performance degradation.\n",
      "24/05/08 14:17:00 WARN WindowExec: No Partition Defined for Window operation! Moving all data to a single partition, this can cause serious performance degradation.\n",
      "24/05/08 14:17:00 WARN SparkStringUtils: Truncated the string representation of a plan since it was too large. This behavior can be adjusted by setting 'spark.sql.debug.maxToStringFields'.\n"
     ]
    },
    {
     "name": "stdout",
     "output_type": "stream",
     "text": [
      "+-----------+-------------+------+--------------------+-------------+--------------------+-------+--------------------------+--------+--------------------+---------+--------------------+-------+-----+--------+------+-----+--------+---------+------------+----------+-------------+-----------+----------+------------+--------+---------+----------+---------------+-----------------+------------+-------+----------+--------------------+-----+\n",
      "|School Year|Building Code|   DBN|       Location Name|Location Code|             Address|Borough|Geographical District Code|Register|       Building Name|# Schools| Schools in Building|Major N|Oth N|NoCrim N|Prop N|Vio N|ENGroupA|   RangeA|AvgOfMajor N|AvgOfOth N|AvgOfNoCrim N|AvgOfProp N|AvgOfVio N|Borough Name|Postcode| Latitude| Longitude|Community Board|Council District |Census Tract|    BIN|       BBL|                 NTA|INDEX|\n",
      "+-----------+-------------+------+--------------------+-------------+--------------------+-------+--------------------------+--------+--------------------+---------+--------------------+-------+-----+--------+------+-----+--------+---------+------------+----------+-------------+-----------+----------+------------+--------+---------+----------+---------------+-----------------+------------+-------+----------+--------------------+-----+\n",
      "|    2013-14|         K001|15K001| P.S. 001 The Bergen|         K001|       309 47 STREET|      K|                        15|   1,277|                NULL|        1| P.S. 001 The Bergen|      0|    2|       1|     1|    0|      7C|1251-1500|        0.86|      3.26|         5.55|       2.17|      1.29|    BROOKLYN|   11220|40.649042|-74.012289|              7|               38|          80|3011821|3007550022|    Sunset Park West|    0|\n",
      "|    2013-14|         K002|17K002|Parkside Preparat...|         K002| 655 PARKSIDE AVENUE|      K|                        17|     479|655 PARKSIDE AVEN...|        3|Parkside Preparat...|    N/A|  N/A|     N/A|   N/A|  N/A|      3C|  251-500|        #N/A|      #N/A|         #N/A|       #N/A|      #N/A|    BROOKLYN|   11226|40.656183|-73.951583|              9|               40|         802|3378201|3050500051|Prospect Lefferts...|    1|\n",
      "|    2013-14|         K002|75K141|           P.S. K141|         K141| 655 PARKSIDE AVENUE|      K|                        17|     397|655 PARKSIDE AVEN...|        3|Parkside Preparat...|    N/A|  N/A|     N/A|   N/A|  N/A|      3C|  251-500|        #N/A|      #N/A|         #N/A|       #N/A|      #N/A|    BROOKLYN|   11226|40.656183|-73.951583|              9|               40|         802|3378201|3050500051|Prospect Lefferts...|    2|\n",
      "|    2013-14|         K002|84K704|Explore Charter S...|         K704| 655 PARKSIDE AVENUE|      K|                        17|    NULL|655 PARKSIDE AVEN...|        3|Parkside Preparat...|    N/A|  N/A|     N/A|   N/A|  N/A|    #N/A|     #N/A|        #N/A|      #N/A|         #N/A|       #N/A|      #N/A|    BROOKLYN|   11226|40.656183|-73.951583|              9|               40|         802|3378201|3050500051|Prospect Lefferts...|    3|\n",
      "|    2013-14|         K002|  NULL|655 PARKSIDE AVEN...|         NULL| 655 PARKSIDE AVENUE|      K|                        17|     876|655 PARKSIDE AVEN...|        3|Parkside Preparat...|      1|    5|       2|     2|    4|      5C| 751-1000|        0.52|      1.71|         2.49|       1.16|      0.75|    BROOKLYN|   11226|40.656183|-73.951583|              9|               40|         802|3378201|3050500051|Prospect Lefferts...|    4|\n",
      "|    2013-14|         K003|13K003|P.S. 003 The Bedf...|         K003| 50 JEFFERSON AVENUE|      K|                        13|     513|                NULL|        1|P.S. 003 The Bedf...|      2|    0|       0|     2|    0|      4C|  501-750|        0.33|      1.32|         1.76|       0.83|      0.59|    BROOKLYN|   11216|40.682663|-73.955338|              3|               36|         227|3057406|3019980001|        Clinton Hill|    5|\n",
      "|    2013-14|         K005|16K005|P.S. 005 Dr. Rona...|         K005|  820 HANCOCK STREET|      K|                        16|     312|                NULL|        1|P.S. 005 Dr. Rona...|      1|    1|       0|     2|    0|      3C|  251-500|        0.35|      1.06|         1.09|       0.73|       0.5|    BROOKLYN|   11233|40.685695|-73.922463|              3|               41|         377|3039906|3014900001|  Stuyvesant Heights|    6|\n",
      "|    2013-14|         K006|17K006|            P.S. 006|         K006|    43 SNYDER AVENUE|      K|                        17|     714|                NULL|        1|            P.S. 006|      0|    1|       2|     0|    0|      4C|  501-750|        0.33|      1.32|         1.76|       0.83|      0.59|    BROOKLYN|   11226| 40.64859|-73.957138|             14|               40|         794|3117230|3051030079|             Erasmus|    7|\n",
      "|    2013-14|         K007|19K007|P.S. 007 Abraham ...|         K007|  858 JAMAICA AVENUE|      K|                        19|   1,073|                NULL|        1|P.S. 007 Abraham ...|      0|    1|       0|     0|    0|      6C|1001-1250|        0.56|       2.4|         3.56|       1.36|      1.05|    BROOKLYN|   11208|40.689697|-73.873109|              5|               37|      118201|3090998|3041060039|Cypress Hills-Cit...|    8|\n",
      "|    2013-14|         K008|13K008|P.S. 008 Robert F...|         K008|     37 HICKS STREET|      K|                        13|     848|                NULL|        1|P.S. 008 Robert F...|      0|    0|       0|     0|    0|      5C| 751-1000|        0.52|      1.71|         2.49|       1.16|      0.75|    BROOKLYN|   11201| 40.70071|-73.993241|              2|               33|           1|3001540|3002110001|Brooklyn Heights-...|    9|\n",
      "|    2013-14|         K009|13K009|P.S. 009 Teunis G...|         K009| 80 UNDERHILL AVENUE|      K|                        13|     722|80 UNDERHILL AVEN...|        2|P.S. 009 Teunis G...|    N/A|  N/A|     N/A|   N/A|  N/A|      4C|  501-750|        #N/A|      #N/A|         #N/A|       #N/A|      #N/A|    BROOKLYN|   11238|40.678297|-73.965541|              8|               35|         205|3028204|3011450026|    Prospect Heights|   10|\n",
      "|    2013-14|         K009|84K780|Brooklyn East Col...|         K780| 80 UNDERHILL AVENUE|      K|                        13|    NULL|80 UNDERHILL AVEN...|        2|P.S. 009 Teunis G...|    N/A|  N/A|     N/A|   N/A|  N/A|    #N/A|     #N/A|        #N/A|      #N/A|         #N/A|       #N/A|      #N/A|    BROOKLYN|   11238|40.678297|-73.965541|              8|               35|         205|3028204|3011450026|    Prospect Heights|   11|\n",
      "|    2013-14|         K009|  NULL|80 UNDERHILL AVEN...|         NULL| 80 UNDERHILL AVENUE|      K|                        13|     722|80 UNDERHILL AVEN...|        2|P.S. 009 Teunis G...|      0|    1|       1|     1|    0|      4C|  501-750|        0.33|      1.32|         1.76|       0.83|      0.59|    BROOKLYN|   11238|40.678297|-73.965541|              8|               35|         205|3028204|3011450026|    Prospect Heights|   12|\n",
      "|    2013-14|         K010|15K010|Magnet School of ...|         K010|        511 7 AVENUE|      K|                        15|     921|                NULL|        1|Magnet School of ...|      0|    1|       0|     0|    1|      5C| 751-1000|        0.52|      1.71|         2.49|       1.16|      0.75|    BROOKLYN|   11215|40.661061|-73.986534|              7|               38|         149|3016509|3008690001|  Park Slope-Gowanus|   13|\n",
      "|    2013-14|         K011|13K011|P.S. 011 Purvis J...|         K011|  419 WAVERLY AVENUE|      K|                        13|     732|                NULL|        1|P.S. 011 Purvis J...|      1|    0|       1|     1|    0|      4C|  501-750|        0.33|      1.32|         1.76|       0.83|      0.59|    BROOKLYN|   11238|40.685491|-73.966291|              2|               35|         199|3332865|3019620010|        Clinton Hill|   14|\n",
      "|    2013-14|         K012|17K484|Ronald Edmonds Le...|         K484|   430 HOWARD AVENUE|      K|                        23|     146|430 HOWARD AVENUE...|        2|Dr. Jacqueline Pe...|    N/A|  N/A|     N/A|   N/A|  N/A|      2C|    1-250|        #N/A|      #N/A|         #N/A|       #N/A|      #N/A|    BROOKLYN|   11233|40.673073|-73.919594|             16|               41|         363|3039174|3014570032|          Ocean Hill|   15|\n",
      "|    2013-14|         K107|15K107|P.S. 107 John W. ...|         K107|       1301 8 AVENUE|      K|                        15|     578|                NULL|        1|P.S. 107 John W. ...|      0|    1|       0|     1|    0|      4C|  501-750|        0.33|      1.32|         1.76|       0.83|      0.59|    BROOKLYN|   11215|40.663251|-73.981289|              6|               39|         167|3026517|3011010001|  Park Slope-Gowanus|   16|\n",
      "|    2013-14|         K012|17K012|Dr. Jacqueline Pe...|         K012|   430 HOWARD AVENUE|      K|                        23|     211|430 HOWARD AVENUE...|        2|Dr. Jacqueline Pe...|    N/A|  N/A|     N/A|   N/A|  N/A|      2C|    1-250|        #N/A|      #N/A|         #N/A|       #N/A|      #N/A|    BROOKLYN|   11233|40.673073|-73.919594|             16|               41|         363|3039174|3014570032|          Ocean Hill|   17|\n",
      "|    2013-14|         K012|  NULL|430 HOWARD AVENUE...|         NULL|   430 HOWARD AVENUE|      K|                        23|     357|430 HOWARD AVENUE...|        2|Dr. Jacqueline Pe...|      2|    3|       3|     5|    0|      3C|  251-500|        0.35|      1.06|         1.09|       0.73|       0.5|    BROOKLYN|   11233|40.673073|-73.919594|             16|               41|         363|3039174|3014570032|          Ocean Hill|   18|\n",
      "|    2013-14|         K013|19K013|P.S. 013 Roberto ...|         K013|557 PENNSYLVANIA ...|      K|                        19|     494|557 PENNSYLVANIA ...|        2|P.S. 013 Roberto ...|    N/A|  N/A|     N/A|   N/A|  N/A|      3C|  251-500|        #N/A|      #N/A|         #N/A|       #N/A|      #N/A|    BROOKLYN|   11207|40.663673|-73.893754|              5|               42|        1126|3085070|3038230001|East New York (Pe...|   19|\n",
      "+-----------+-------------+------+--------------------+-------------+--------------------+-------+--------------------------+--------+--------------------+---------+--------------------+-------+-----+--------+------+-----+--------+---------+------------+----------+-------------+-----------+----------+------------+--------+---------+----------+---------------+-----------------+------------+-------+----------+--------------------+-----+\n",
      "only showing top 20 rows\n",
      "\n"
     ]
    }
   ],
   "source": [
    "from pyspark.sql.functions import trim, col, row_number, monotonically_increasing_id\n",
    "from pyspark.sql.window import Window\n",
    "\n",
    "# Load the data stored in the file\n",
    "df = spark.read.csv(\"dataset/2010_-_2016_School_Safety_Report_20240413.csv\", header=True, inferSchema=True)\n",
    "\n",
    "# Trim the leading and trailing whitespaces\n",
    "for column in df.columns:\n",
    "    df = df.withColumn(column, trim(col(column)))\n",
    "\n",
    "# Add a unique index to each row\n",
    "df_with_index = df.withColumn('INDEX', row_number().over(Window.orderBy(monotonically_increasing_id())) - 1)\n",
    "\n",
    "df_with_index.show()"
   ]
  },
  {
   "cell_type": "code",
   "execution_count": 3,
   "metadata": {},
   "outputs": [],
   "source": [
    "from pyspark.sql.functions import lit, col, when, concat, avg, stddev, abs\n",
    "\n",
    "def outlier_detection(df):\n",
    "\n",
    "    # Create a new column to flag the outlier\n",
    "    df_outlier = df.withColumn('OUTLIER', lit(''))\n",
    "\n",
    "    # Define the list of columns that need to be checked\n",
    "    outlier_columns = [column for column in df.columns if 'total' in column.lower() or 'avg' in column.lower() or 'age' in column.lower() or 'grade' in column.lower()]\n",
    "\n",
    "    # Detect the outlier\n",
    "    for column in outlier_columns:\n",
    "        result = df.agg(avg(column), stddev(column)).collect()\n",
    "        avg_val = result[0][0]\n",
    "        stddev_val = result[0][1]\n",
    "        df_outlier = df_outlier.withColumn('OUTLIER', \n",
    "                                               when((abs((col(column) - avg_val)) / stddev_val > 2.2), \n",
    "                                                            concat(col('OUTLIER'), lit(','), lit(column))).otherwise(col('OUTLIER')))\n",
    "        \n",
    "    # Keep only the rows that contain outlier flags\n",
    "    df_outlier = df_outlier.filter(col('OUTLIER') != '')\n",
    "\n",
    "    return df_outlier"
   ]
  },
  {
   "cell_type": "code",
   "execution_count": 4,
   "metadata": {},
   "outputs": [
    {
     "name": "stderr",
     "output_type": "stream",
     "text": [
      "24/05/08 14:17:01 WARN WindowExec: No Partition Defined for Window operation! Moving all data to a single partition, this can cause serious performance degradation.\n",
      "24/05/08 14:17:01 WARN WindowExec: No Partition Defined for Window operation! Moving all data to a single partition, this can cause serious performance degradation.\n",
      "24/05/08 14:17:01 WARN WindowExec: No Partition Defined for Window operation! Moving all data to a single partition, this can cause serious performance degradation.\n",
      "24/05/08 14:17:01 WARN WindowExec: No Partition Defined for Window operation! Moving all data to a single partition, this can cause serious performance degradation.\n",
      "24/05/08 14:17:01 WARN WindowExec: No Partition Defined for Window operation! Moving all data to a single partition, this can cause serious performance degradation.\n"
     ]
    },
    {
     "name": "stdout",
     "output_type": "stream",
     "text": [
      "+-----+--------------------+\n",
      "|INDEX|             OUTLIER|\n",
      "+-----+--------------------+\n",
      "|  535|,AvgOfMajor N,Avg...|\n",
      "|  538|,AvgOfMajor N,Avg...|\n",
      "|  553|,AvgOfMajor N,Avg...|\n",
      "|  554|,AvgOfMajor N,Avg...|\n",
      "|  570|,AvgOfMajor N,Avg...|\n",
      "|  574|,AvgOfMajor N,Avg...|\n",
      "|  595|,AvgOfMajor N,Avg...|\n",
      "|  598|,AvgOfMajor N,Avg...|\n",
      "|  622|,AvgOfMajor N,Avg...|\n",
      "|  631|,AvgOfMajor N,Avg...|\n",
      "|  873|,AvgOfMajor N,Avg...|\n",
      "| 1015|,AvgOfMajor N,Avg...|\n",
      "| 1038|,AvgOfMajor N,Avg...|\n",
      "| 1044|,AvgOfMajor N,Avg...|\n",
      "| 1055|,AvgOfMajor N,Avg...|\n",
      "| 1056|,AvgOfMajor N,Avg...|\n",
      "| 1065|,AvgOfMajor N,Avg...|\n",
      "| 1073|,AvgOfMajor N,Avg...|\n",
      "| 1093|,AvgOfMajor N,Avg...|\n",
      "| 1121|,AvgOfMajor N,Avg...|\n",
      "+-----+--------------------+\n",
      "only showing top 20 rows\n",
      "\n"
     ]
    }
   ],
   "source": [
    "# Detect outlier\n",
    "df_outlier = outlier_detection(df_with_index)\n",
    "\n",
    "df_outlier.select('INDEX', 'OUTLIER').show()"
   ]
  },
  {
   "cell_type": "code",
   "execution_count": 5,
   "metadata": {},
   "outputs": [
    {
     "name": "stderr",
     "output_type": "stream",
     "text": [
      "24/05/08 14:17:03 WARN WindowExec: No Partition Defined for Window operation! Moving all data to a single partition, this can cause serious performance degradation.\n",
      "24/05/08 14:17:03 WARN WindowExec: No Partition Defined for Window operation! Moving all data to a single partition, this can cause serious performance degradation.\n",
      "24/05/08 14:17:03 WARN WindowExec: No Partition Defined for Window operation! Moving all data to a single partition, this can cause serious performance degradation.\n",
      "[Stage 23:>                                                       (0 + 10) / 10]\r"
     ]
    },
    {
     "name": "stdout",
     "output_type": "stream",
     "text": [
      "+----------+----------+--------------------+----------+--------------------+----------------+-----+----------+--------------+-----+----------------+----------------+--------------+---------------+-------+-----------+---------+----------+---------------+----------------+------------+---------+----------+--------------------+----+-----+\n",
      "|   CREATED|BIC NUMBER|        ACCOUNT NAME|TRADE NAME|             ADDRESS|            CITY|STATE|  POSTCODE|         PHONE|EMAIL|APPLICATION TYPE|DISPOSITION DATE|EFFECTIVE DATE|EXPIRATION DATE|RENEWAL|EXPORT DATE| LATITUDE| LONGITUDE|COMMUNITY BOARD|COUNCIL DISTRICT|CENSUS TRACT|      BIN|       BBL|                 NTA|BORO|INDEX|\n",
      "+----------+----------+--------------------+----------+--------------------+----------------+-----+----------+--------------+-----+----------------+----------------+--------------+---------------+-------+-----------+---------+----------+---------------+----------------+------------+---------+----------+--------------------+----+-----+\n",
      "|04/03/2017|BIC-489972|116 ROSEVIEW APT INC|      NULL|       54 WREN DRIVE|      EAST HILLS|   NY|     11576|(516) 852-8989| NULL|    CL2 - Exempt|            NULL|          NULL|           NULL|   NULL| 04/03/2017|     NULL|      NULL|           NULL|            NULL|        NULL|     NULL|      NULL|                NULL|NULL|    0|\n",
      "|04/03/2017|BIC-490304|1ST CLASS CONTRAC...|      NULL|  24-04 201ST STREET|         BAYSIDE|   NY|     11360|(718) 224-2622| NULL|    CL2 - Exempt|            NULL|          NULL|           NULL|   NULL| 04/03/2017|40.775707|-73.790822|              7|              19|     99701.0|4129840.0|4057980032|Ft. Totten-Bay Te...|NULL|    1|\n",
      "|04/03/2017|  BIC-4117|24 SEVEN PLUMBING...|      NULL|        P.O. BOX 244|        WOODMERE|   NY|     11598|(718) 680-6200| NULL|    CL2 - Exempt|            NULL|          NULL|           NULL|   NULL| 04/03/2017|     NULL|      NULL|           NULL|            NULL|        NULL|     NULL|      NULL|                NULL|NULL|    2|\n",
      "|04/03/2017|BIC-487601|     3 G HAULING LLC|      NULL|    950 Sinclair Ave|   Staten Island|   NY|10309-2231|(718) 753-8818| NULL|    CL2 - Exempt|            NULL|          NULL|           NULL|   NULL| 04/03/2017|40.538805|-74.207641|              3|              51|     20803.0|5085023.0|5069300060|   Rossville-Woodrow|NULL|    3|\n",
      "|04/03/2017|   BIC-946|    3 L. BROS. CORP.|      NULL|   130 BAYARD STREET|        BROOKLYN|   NY|     11222|(718) 387-4950| NULL|    CL2 - Exempt|            NULL|          NULL|           NULL|   NULL| 04/03/2017|40.719695|-73.946793|              1|              33|       499.0|3067916.0|3027240010|          Greenpoint|NULL|    4|\n",
      "|04/03/2017|  BIC-2649|3J'S RESTORATION,...|      NULL| 293 N. UTICA AVENUE|NORTH MASSAPEQUA|   NY|     11758|(646) 728-0383| NULL|    CL2 - Exempt|            NULL|          NULL|           NULL|   NULL| 04/03/2017|     NULL|      NULL|           NULL|            NULL|        NULL|     NULL|      NULL|                NULL|NULL|    5|\n",
      "|04/03/2017|  BIC-3006|5 BROS. TRUCKING,...|      NULL|1818 FALMOUTH AVENUE|   NEW HYDE PARK|   NY|     11040|(516) 352-7868| NULL|    CL2 - Exempt|            NULL|          NULL|           NULL|   NULL| 04/03/2017|     NULL|      NULL|           NULL|            NULL|        NULL|     NULL|      NULL|                NULL|NULL|    6|\n",
      "|04/03/2017|BIC-485179|58A JVD INDUSTRIE...|      NULL|261 WEST LINCOLN ...|    MOUNT VERNON|   NY|     10550|(914) 699-5805| NULL|    CL2 - Exempt|            NULL|          NULL|           NULL|   NULL| 04/03/2017|     NULL|      NULL|           NULL|            NULL|        NULL|     NULL|      NULL|                NULL|NULL|    7|\n",
      "|04/03/2017|  BIC-3864|7TH STAR RENOVATI...|      NULL|95 EAST 165TH STREET|           BRONX|   NY|     10452|(917) 473-7279| NULL|    CL2 - Exempt|            NULL|          NULL|           NULL|   NULL| 04/03/2017|40.831531|-73.922196|              4|              16|       195.0|2002953.0|2024780064|      West Concourse|NULL|    8|\n",
      "|04/03/2017|  BIC-4342|8 AVE DEBRIS REMO...|      NULL|  778 48Th St , 2 FL|        BROOKLYN|   NY|     11220|(917) 535-2772| NULL|    CL2 - Exempt|            NULL|          NULL|           NULL|   NULL| 04/03/2017| 40.64262|-74.003196|              7|              38|       108.0|3012768.0|3007770036|    Sunset Park East|NULL|    9|\n",
      "|04/03/2017|  BIC-2961|        8 SPEED INC.|      NULL|      21912 43Rd Ave|         Bayside|   NY|11361-3523|(917) 531-0318| NULL|    CL2 - Exempt|            NULL|          NULL|           NULL|   NULL| 04/03/2017|40.762583|-73.763093|             11|              19|      1471.0|4138688.0|4063220006|Bayside-Bayside H...|NULL|   10|\n",
      "|04/03/2017|  BIC-3302|A & G PLASTERING ...|      NULL|1601 BRONXDALE AV...|           BRONX|   NY|     10462|(718) 409-1100| NULL|    CL2 - Exempt|            NULL|          NULL|           NULL|   NULL| 04/03/2017|40.843548|-73.856945|             11|              13|       238.0|2043253.0|2040420200|Van Nest-Morris P...|NULL|   11|\n",
      "|04/03/2017|BIC-489817|A & I DEVELOPERS,...|      NULL|   159-20 115TH ROAD|         JAMAICA|   NY|     11434|          NULL| NULL|    CL2 - Exempt|            NULL|          NULL|           NULL|   NULL| 04/03/2017|40.687385|-73.786928|             12|              28|       276.0|4264604.0|4121990009|        Baisley Park|NULL|   12|\n",
      "|04/03/2017|BIC-485180|   A & M CARTING INC|      NULL|        P.O.BOX 1305|    WEST BABYLON|   NY|     11704|(631) 943-8668| NULL|    CL2 - Exempt|            NULL|          NULL|           NULL|   NULL| 04/03/2017|     NULL|      NULL|           NULL|            NULL|        NULL|     NULL|      NULL|                NULL|NULL|   13|\n",
      "|04/03/2017|BIC-485073|A & V ENTERPRISE,...|      NULL|  7 DEMARTINO AVENUE|         YONKERS|   NY|     10703|(914) 469-8940| NULL|    CL2 - Exempt|            NULL|          NULL|           NULL|   NULL| 04/03/2017|     NULL|      NULL|           NULL|            NULL|        NULL|     NULL|      NULL|                NULL|NULL|   14|\n",
      "|04/03/2017|  BIC-3221|A PLUS CONCRETE A...|      NULL|    10 MALLOW STREET|   STATEN ISLAND|   NY|     10309|(718) 317-6007| NULL|    CL2 - Exempt|            NULL|          NULL|           NULL|   NULL| 04/03/2017|40.545079|-74.208225|              3|              51|     20801.0|5079764.0|5061460075|   Rossville-Woodrow|NULL|   15|\n",
      "|04/03/2017|  BIC-4013|A REAL ADVANTAGE ...|      NULL|     P.O. BOX 580066|        FLUSHING|   NY|     11358|(718) 767-6950| NULL|    CL2 - Exempt|            NULL|          NULL|           NULL|   NULL| 04/03/2017|     NULL|      NULL|           NULL|            NULL|        NULL|     NULL|      NULL|                NULL|NULL|   16|\n",
      "|04/03/2017|  BIC-4162|A S M CONSTRUCTIO...|      NULL|     39 PERRY AVENUE|   STATEN ISLAND|   NY|     10314|(718) 698-6365| NULL|    CL2 - Exempt|            NULL|          NULL|           NULL|   NULL| 04/03/2017|  40.6115| -74.13011|              1|              50|     18701.0|5018283.0|5007220084|         Westerleigh|NULL|   17|\n",
      "|04/03/2017|BIC-488438| A V B TRUCKING CORP|      NULL|    33 N 13TH STREET|      KENILWORTH|   NJ|     07033|(973) 220-2296| NULL|    CL2 - Exempt|            NULL|          NULL|           NULL|   NULL| 04/03/2017|     NULL|      NULL|           NULL|            NULL|        NULL|     NULL|      NULL|                NULL|NULL|   18|\n",
      "|04/03/2017|  BIC-1982|A. DILEMME CONTRA...|      NULL|  46 SATTERIE AVENUE|   VALLEY STREAM|   NY|     11580|(516) 825-6087| NULL|    CL2 - Exempt|            NULL|          NULL|           NULL|   NULL| 04/03/2017|     NULL|      NULL|           NULL|            NULL|        NULL|     NULL|      NULL|                NULL|NULL|   19|\n",
      "+----------+----------+--------------------+----------+--------------------+----------------+-----+----------+--------------+-----+----------------+----------------+--------------+---------------+-------+-----------+---------+----------+---------------+----------------+------------+---------+----------+--------------------+----+-----+\n",
      "only showing top 20 rows\n",
      "\n"
     ]
    },
    {
     "name": "stderr",
     "output_type": "stream",
     "text": [
      "                                                                                \r"
     ]
    }
   ],
   "source": [
    "# Load the data stored in the file\n",
    "df = spark.read.csv(\"dataset/Construction_Demolition_Registrants_20240413.csv\", header=True, inferSchema=True)\n",
    "\n",
    "# Trim the leading and trailing whitespaces\n",
    "for column in df.columns:\n",
    "    df = df.withColumn(column, trim(col(column)))\n",
    "\n",
    "# Add a unique index to each row\n",
    "df_with_index = df.withColumn('INDEX', row_number().over(Window.orderBy(monotonically_increasing_id())) - 1)\n",
    "\n",
    "df_with_index.show()"
   ]
  },
  {
   "cell_type": "code",
   "execution_count": 6,
   "metadata": {},
   "outputs": [],
   "source": [
    "def pattern_violation_detection(df):\n",
    "\n",
    "    # Create a new column to flag the regular expression violations\n",
    "    df_pattern_violation = df.withColumn('REGEX', lit(''))\n",
    "\n",
    "    # Define the list of columns that need to be checked\n",
    "    date_columns = [column for column in df.columns if 'date' in column.lower()]\n",
    "    phone_columns = [column for column in df.columns if 'phone' in column.lower()]\n",
    "    email_columns = [column for column in df.columns if 'email' in column.lower()]\n",
    "    zip_columns = [column for column in df.columns if 'zip' in column.lower() or 'post' in column.lower()]\n",
    "\n",
    "    # Define the list of regular expressions\n",
    "    regexp_date = r'^(0[1-9]|1[0-2])/(0[1-9]|[12][0-9]|3[01])/\\d{4}$'\n",
    "    regexp_phone = r'^\\(\\d{3}\\) \\d{3}-\\d{4}$'\n",
    "    regexp_email = r'^[a-zA-Z0-9_.+-]+@[a-zA-Z0-9-]+\\.[a-zA-Z0-9-.]+$'\n",
    "    regexp_zip = r'^\\d{5}(-\\d{4})?$'\n",
    "\n",
    "    # Detect the regex pattern violation\n",
    "    for column in date_columns:\n",
    "        df_pattern_violation = df_pattern_violation.withColumn('REGEX', \n",
    "                                                 when(col(column).isNull() | col(column).rlike(regexp_date), \n",
    "                                                      col('REGEX')).otherwise(concat(col('REGEX'), lit(','), lit(column))))\n",
    "    for column in phone_columns:\n",
    "        df_pattern_violation = df_pattern_violation.withColumn('REGEX', \n",
    "                                                 when(col(column).isNull() | col(column).rlike(regexp_phone), \n",
    "                                                      col('REGEX')).otherwise(concat(col('REGEX'), lit(','), lit(column))))                                        \n",
    "    for column in email_columns:\n",
    "        df_pattern_violation = df_pattern_violation.withColumn('REGEX', \n",
    "                                                 when(col(column).isNull() | col(column).rlike(regexp_email), \n",
    "                                                      col('REGEX')).otherwise(concat(col('REGEX'), lit(','), lit(column))))\n",
    "    for column in zip_columns:\n",
    "        df_pattern_violation = df_pattern_violation.withColumn('REGEX', \n",
    "                                                 when(col(column).isNull() | col(column).rlike(regexp_zip), \n",
    "                                                      col('REGEX')).otherwise(concat(col('REGEX'), lit(','), lit(column))))\n",
    "    \n",
    "    # Keep only the rows that contain pattern violation flags\n",
    "    df_pattern_violation = df_pattern_violation.filter((col('REGEX') != ''))\n",
    "\n",
    "    return df_pattern_violation"
   ]
  },
  {
   "cell_type": "code",
   "execution_count": 7,
   "metadata": {},
   "outputs": [
    {
     "name": "stderr",
     "output_type": "stream",
     "text": [
      "24/05/08 14:17:04 WARN WindowExec: No Partition Defined for Window operation! Moving all data to a single partition, this can cause serious performance degradation.\n",
      "24/05/08 14:17:04 WARN WindowExec: No Partition Defined for Window operation! Moving all data to a single partition, this can cause serious performance degradation.\n",
      "24/05/08 14:17:04 WARN WindowExec: No Partition Defined for Window operation! Moving all data to a single partition, this can cause serious performance degradation.\n",
      "24/05/08 14:17:06 WARN WindowExec: No Partition Defined for Window operation! Moving all data to a single partition, this can cause serious performance degradation.\n",
      "24/05/08 14:17:06 WARN WindowExec: No Partition Defined for Window operation! Moving all data to a single partition, this can cause serious performance degradation.\n",
      "24/05/08 14:17:09 WARN GarbageCollectionMetrics: To enable non-built-in garbage collector(s) List(G1 Concurrent GC), users should configure it(them) to spark.eventLog.gcMetrics.youngGenerationGarbageCollectors or spark.eventLog.gcMetrics.oldGenerationGarbageCollectors\n"
     ]
    },
    {
     "name": "stdout",
     "output_type": "stream",
     "text": [
      "+----------+----------+--------------------+--------------------+--------------------+----------------+-----+--------+--------------------+-----+----------------+----------------+--------------+---------------+-------+-----------+---------+----------+---------------+----------------+------------+---------+----------+--------------------+----+-----+------+\n",
      "|   CREATED|BIC NUMBER|        ACCOUNT NAME|          TRADE NAME|             ADDRESS|            CITY|STATE|POSTCODE|               PHONE|EMAIL|APPLICATION TYPE|DISPOSITION DATE|EFFECTIVE DATE|EXPIRATION DATE|RENEWAL|EXPORT DATE| LATITUDE| LONGITUDE|COMMUNITY BOARD|COUNCIL DISTRICT|CENSUS TRACT|      BIN|       BBL|                 NTA|BORO|INDEX| REGEX|\n",
      "+----------+----------+--------------------+--------------------+--------------------+----------------+-----+--------+--------------------+-----+----------------+----------------+--------------+---------------+-------+-----------+---------+----------+---------------+----------------+------------+---------+----------+--------------------+----+-----+------+\n",
      "|04/03/2017|  BIC-3062|AUGUSIEWICZ CONTR...|                NULL|   15 WASHINGTON AVE|        BAYSHORE|   NY|   11706|(631) 254-0024 ex...| NULL|    CL2 - Exempt|            NULL|          NULL|           NULL|   NULL| 04/03/2017|     NULL|      NULL|           NULL|            NULL|        NULL|     NULL|      NULL|                NULL|NULL|  123|,PHONE|\n",
      "|04/03/2017|BIC-476943|DOUBLE NICKEL CON...|                NULL|      3 TERRELL LANE|      HICKSVILLE|   NY|   11801|        516-233-7973| NULL|    CL2 - Exempt|            NULL|          NULL|           NULL|   NULL| 04/03/2017|     NULL|      NULL|           NULL|            NULL|        NULL|     NULL|      NULL|                NULL|NULL|  334|,PHONE|\n",
      "|04/03/2017|BIC-488790|HI-TECH CONSTRUCT...|                NULL|830 CONEY ISLAND ...|        BROOKLYN|   NY|   11218|        718-826-6700| NULL|    CL2 - Exempt|            NULL|          NULL|           NULL|   NULL| 04/03/2017|40.637554|-73.968311|             12|              40|       492.0|3345379.0|3053930040|Kensington-Ocean ...|NULL|  462|,PHONE|\n",
      "|04/03/2017|BIC-483127|HIGH  POWER TRUCK...|                NULL|   146-46 229 STREET|          QUEENS|   NY|   11413|        646-529-0200| NULL|    CL2 - Exempt|            NULL|          NULL|           NULL|   NULL| 04/03/2017|40.659091|-73.752356|             13|              31|       690.0|4430513.0|4134620094|Springfield Garde...|NULL|  464|,PHONE|\n",
      "|04/03/2017|BIC-489113|JIMMY TRUCKING CORP.|                NULL|146-33 HOLLY AVEN...|        FLUSHING|   NY|   11355|        646-391-3773| NULL|    CL2 - Exempt|            NULL|          NULL|           NULL|   NULL| 04/03/2017|40.753565|-73.814605|              7|              20|      1201.0|4117591.0|4052070039|       East Flushing|NULL|  560|,PHONE|\n",
      "|04/03/2017|BIC-487928|JKJR TRUCKING COR...|                NULL| 187-05 QUENCER ROAD|      ST. ALBANS|   NY|   11412|        718-525-0434| NULL|    CL2 - Exempt|            NULL|          NULL|           NULL|   NULL| 04/03/2017|40.696127| -73.76845|             12|              27|       398.0|4221446.0|4104050047|          St. Albans|NULL|  561|,PHONE|\n",
      "|04/03/2017|   BIC-520|KENNETH J. DELANE...|                NULL|  125-08 26TH AVENUE|        FLUSHING|   NY|   11354|        718-359-4300| NULL|    CL2 - Exempt|            NULL|          NULL|           NULL|   NULL| 04/03/2017| 40.77435|-73.843439|              7|              19|       907.0|4100677.0|4042950038|       College Point|NULL|  605|,PHONE|\n",
      "|04/03/2017|   BIC-605|      SAL DONA, INC.|                NULL|  786 EAST 94 STREET|        BROOKLYN|   NY|   11236|        718-251-0657| NULL|    CL2 - Exempt|            NULL|          NULL|           NULL|   NULL| 04/03/2017|40.649409|-73.911201|             17|              42|       960.0|3228486.0|3081190053|            Canarsie|NULL|  695|,PHONE|\n",
      "|04/03/2017|BIC-483512|SHELBOURNE CONSTR...|SOUTH FERRY CONCRETE|44-02  23RD STREE...|LONG ISLAND CITY|   NY|   11101|        718-392-6050| NULL|    CL2 - Exempt|            NULL|          NULL|           NULL|   NULL| 04/03/2017|     NULL|      NULL|           NULL|            NULL|        NULL|     NULL|      NULL|                NULL|NULL|  729|,PHONE|\n",
      "|04/03/2017|  BIC-3286|NORTHBROOK CONTRA...|                NULL|   7 CORPORATE DRIVE|       PEEKSKILL|   NY|   10566| (914) 737-4403 X225| NULL|    CL2 - Exempt|            NULL|          NULL|           NULL|   NULL| 04/03/2017|     NULL|      NULL|           NULL|            NULL|        NULL|     NULL|      NULL|                NULL|NULL| 1009|,PHONE|\n",
      "|04/03/2017|BIC-486744|R.J.A. LANDSCAPIN...|                NULL|  124 HICKORY AVENUE|   STATEN ISLAND|   NY|   10305|        718-981-7309| NULL|    CL2 - Exempt|            NULL|          NULL|           NULL|   NULL| 04/03/2017|40.594478|-74.072944|              2|              50|        70.0|5048190.0|5032760064|Old Town-Dongan H...|NULL| 1093|,PHONE|\n",
      "|04/03/2017|  BIC-3351|ZELIA TRUCKING, INC.|                NULL|       175 JORDAN RD|         COLONIA|   NJ|   07067|        732-620-0425| NULL|    CL2 - Exempt|            NULL|          NULL|           NULL|   NULL| 04/03/2017|     NULL|      NULL|           NULL|            NULL|        NULL|     NULL|      NULL|                NULL|NULL| 1142|,PHONE|\n",
      "|04/04/2017|  BIC-3062|AUGUSIEWICZ CONTR...|                NULL|   15 WASHINGTON AVE|        BAYSHORE|   NY|   11706|(631) 254-0024 ex...| NULL|    CL2 - Exempt|            NULL|          NULL|           NULL|   NULL| 04/04/2017|     NULL|      NULL|           NULL|            NULL|        NULL|     NULL|      NULL|                NULL|NULL| 1274|,PHONE|\n",
      "|04/04/2017|BIC-476943|DOUBLE NICKEL CON...|                NULL|      3 TERRELL LANE|      HICKSVILLE|   NY|   11801|        516-233-7973| NULL|    CL2 - Exempt|            NULL|          NULL|           NULL|   NULL| 04/04/2017|     NULL|      NULL|           NULL|            NULL|        NULL|     NULL|      NULL|                NULL|NULL| 1483|,PHONE|\n",
      "|04/04/2017|BIC-488790|HI-TECH CONSTRUCT...|                NULL|830 CONEY ISLAND ...|        BROOKLYN|   NY|   11218|        718-826-6700| NULL|    CL2 - Exempt|            NULL|          NULL|           NULL|   NULL| 04/04/2017|40.637554|-73.968311|             12|              40|       492.0|3345379.0|3053930040|Kensington-Ocean ...|NULL| 1609|,PHONE|\n",
      "|04/04/2017|BIC-483127|HIGH  POWER TRUCK...|                NULL|   146-46 229 STREET|          QUEENS|   NY|   11413|        646-529-0200| NULL|    CL2 - Exempt|            NULL|          NULL|           NULL|   NULL| 04/04/2017|40.659091|-73.752356|             13|              31|       690.0|4430513.0|4134620094|Springfield Garde...|NULL| 1611|,PHONE|\n",
      "|04/04/2017|BIC-489113|JIMMY TRUCKING CORP.|                NULL|146-33 HOLLY AVEN...|        FLUSHING|   NY|   11355|        646-391-3773| NULL|    CL2 - Exempt|            NULL|          NULL|           NULL|   NULL| 04/04/2017|40.753565|-73.814605|              7|              20|      1201.0|4117591.0|4052070039|       East Flushing|NULL| 1703|,PHONE|\n",
      "|04/04/2017|BIC-487928|JKJR TRUCKING COR...|                NULL| 187-05 QUENCER ROAD|      ST. ALBANS|   NY|   11412|        718-525-0434| NULL|    CL2 - Exempt|            NULL|          NULL|           NULL|   NULL| 04/04/2017|40.696127| -73.76845|             12|              27|       398.0|4221446.0|4104050047|          St. Albans|NULL| 1704|,PHONE|\n",
      "|04/04/2017|   BIC-520|KENNETH J. DELANE...|                NULL|  125-08 26TH AVENUE|        FLUSHING|   NY|   11354|        718-359-4300| NULL|    CL2 - Exempt|            NULL|          NULL|           NULL|   NULL| 04/04/2017| 40.77435|-73.843439|              7|              19|       907.0|4100677.0|4042950038|       College Point|NULL| 1748|,PHONE|\n",
      "|04/04/2017|   BIC-605|      SAL DONA, INC.|                NULL|  786 EAST 94 STREET|        BROOKLYN|   NY|   11236|        718-251-0657| NULL|    CL2 - Exempt|            NULL|          NULL|           NULL|   NULL| 04/04/2017|40.649409|-73.911201|             17|              42|       960.0|3228486.0|3081190053|            Canarsie|NULL| 1836|,PHONE|\n",
      "+----------+----------+--------------------+--------------------+--------------------+----------------+-----+--------+--------------------+-----+----------------+----------------+--------------+---------------+-------+-----------+---------+----------+---------------+----------------+------------+---------+----------+--------------------+----+-----+------+\n",
      "only showing top 20 rows\n",
      "\n"
     ]
    },
    {
     "name": "stderr",
     "output_type": "stream",
     "text": [
      "                                                                                \r"
     ]
    }
   ],
   "source": [
    "# Detect pattern violation\n",
    "df_pattern_violation = pattern_violation_detection(df_with_index)\n",
    "\n",
    "df_pattern_violation.show()"
   ]
  },
  {
   "cell_type": "code",
   "execution_count": 8,
   "metadata": {},
   "outputs": [],
   "source": [
    "from pyspark.sql.functions import struct, countDistinct\n",
    "\n",
    "def constriant_violation_detection(df, left, right):\n",
    "\n",
    "    # Filter the rows without null values in the left and right columns\n",
    "    df_constriant_violation = df.dropna(subset=left+right)\n",
    "\n",
    "    struct_cols_right = [col(column) for column in right]\n",
    "    struct_expr_right = struct(*struct_cols_right)\n",
    "    \n",
    "    # Group the right columns by the left columns\n",
    "    # Count the distinct values of the right columns for each group\n",
    "    grouped = df_constriant_violation.groupBy(left).agg(countDistinct(struct_expr_right).alias(\"distinct_count\"))\n",
    "\n",
    "    # Filter the groups with more than one distinct value\n",
    "    grouped = grouped.filter(col(\"distinct_count\") > 1)\n",
    "\n",
    "    # Join the grouped dataframe with the original dataframe\n",
    "    df_constriant_violation = df_constriant_violation.join(grouped, left, \"inner\").select(df_constriant_violation.columns).sort(left)\n",
    "\n",
    "    return df_constriant_violation"
   ]
  },
  {
   "cell_type": "code",
   "execution_count": 9,
   "metadata": {},
   "outputs": [
    {
     "name": "stderr",
     "output_type": "stream",
     "text": [
      "                                                                                \r"
     ]
    },
    {
     "name": "stdout",
     "output_type": "stream",
     "text": [
      "+---+-----+\n",
      "|NTA| BORO|\n",
      "+---+-----+\n",
      "|  1|   18|\n",
      "|  1|   33|\n",
      "|  1|   31|\n",
      "|  1|    8|\n",
      "|  1|   41|\n",
      "|  1|    8|\n",
      "|  1|  201|\n",
      "| 11|40702|\n",
      "| 11|44902|\n",
      "| 11|45101|\n",
      "| 12|  350|\n",
      "| 12|46202|\n",
      "| 12|46202|\n",
      "| 12|  344|\n",
      "| 12|  358|\n",
      "| 12|46202|\n",
      "| 12|  390|\n",
      "| 12|  368|\n",
      "| 12|  456|\n",
      "| 12|  484|\n",
      "+---+-----+\n",
      "only showing top 20 rows\n",
      "\n"
     ]
    }
   ],
   "source": [
    "# Detect constriant violation\n",
    "left = ['NTA']\n",
    "right = ['BORO']\n",
    "df_constriant_violation = constriant_violation_detection(df_with_index, left, right)\n",
    "\n",
    "df_constriant_violation.select(left+right).show()"
   ]
  }
 ],
 "metadata": {
  "kernelspec": {
   "display_name": "spark_env",
   "language": "python",
   "name": "python3"
  },
  "language_info": {
   "codemirror_mode": {
    "name": "ipython",
    "version": 3
   },
   "file_extension": ".py",
   "mimetype": "text/x-python",
   "name": "python",
   "nbconvert_exporter": "python",
   "pygments_lexer": "ipython3",
   "version": "3.8.19"
  }
 },
 "nbformat": 4,
 "nbformat_minor": 2
}

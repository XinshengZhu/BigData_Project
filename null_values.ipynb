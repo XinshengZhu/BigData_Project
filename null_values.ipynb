{
 "cells": [
  {
   "cell_type": "code",
   "execution_count": 1,
   "metadata": {},
   "outputs": [
    {
     "name": "stderr",
     "output_type": "stream",
     "text": [
      "Setting default log level to \"WARN\".\n",
      "To adjust logging level use sc.setLogLevel(newLevel). For SparkR, use setLogLevel(newLevel).\n",
      "24/05/08 14:24:12 WARN NativeCodeLoader: Unable to load native-hadoop library for your platform... using builtin-java classes where applicable\n"
     ]
    }
   ],
   "source": [
    "from pyspark import SparkContext, SparkConf\n",
    "from pyspark.sql import SparkSession\n",
    "\n",
    "cf = SparkConf()\n",
    "cf.set(\"spark.submit.deployMode\",\"client\")\n",
    "sc = SparkContext.getOrCreate(cf)\n",
    "\n",
    "spark = SparkSession \\\n",
    "    .builder \\\n",
    "        .appName(\"null_values\") \\\n",
    "            .config(\"spark.some.config.option\", \"some-value\") \\\n",
    "                .getOrCreate()"
   ]
  },
  {
   "cell_type": "code",
   "execution_count": 2,
   "metadata": {},
   "outputs": [
    {
     "name": "stderr",
     "output_type": "stream",
     "text": [
      "24/05/08 14:24:15 WARN WindowExec: No Partition Defined for Window operation! Moving all data to a single partition, this can cause serious performance degradation.\n",
      "24/05/08 14:24:16 WARN WindowExec: No Partition Defined for Window operation! Moving all data to a single partition, this can cause serious performance degradation.\n",
      "24/05/08 14:24:16 WARN WindowExec: No Partition Defined for Window operation! Moving all data to a single partition, this can cause serious performance degradation.\n",
      "24/05/08 14:24:16 WARN SparkStringUtils: Truncated the string representation of a plan since it was too large. This behavior can be adjusted by setting 'spark.sql.debug.maxToStringFields'.\n"
     ]
    },
    {
     "name": "stdout",
     "output_type": "stream",
     "text": [
      "+-----------+-------------+------+--------------------+-------------+--------------------+-------+--------------------------+--------+--------------------+---------+--------------------+-------+-----+--------+------+-----+--------+---------+------------+----------+-------------+-----------+----------+------------+--------+---------+----------+---------------+-----------------+------------+-------+----------+--------------------+-----+\n",
      "|School Year|Building Code|   DBN|       Location Name|Location Code|             Address|Borough|Geographical District Code|Register|       Building Name|# Schools| Schools in Building|Major N|Oth N|NoCrim N|Prop N|Vio N|ENGroupA|   RangeA|AvgOfMajor N|AvgOfOth N|AvgOfNoCrim N|AvgOfProp N|AvgOfVio N|Borough Name|Postcode| Latitude| Longitude|Community Board|Council District |Census Tract|    BIN|       BBL|                 NTA|INDEX|\n",
      "+-----------+-------------+------+--------------------+-------------+--------------------+-------+--------------------------+--------+--------------------+---------+--------------------+-------+-----+--------+------+-----+--------+---------+------------+----------+-------------+-----------+----------+------------+--------+---------+----------+---------------+-----------------+------------+-------+----------+--------------------+-----+\n",
      "|    2013-14|         K001|15K001| P.S. 001 The Bergen|         K001|       309 47 STREET|      K|                        15|   1,277|                NULL|        1| P.S. 001 The Bergen|      0|    2|       1|     1|    0|      7C|1251-1500|        0.86|      3.26|         5.55|       2.17|      1.29|    BROOKLYN|   11220|40.649042|-74.012289|              7|               38|          80|3011821|3007550022|    Sunset Park West|    0|\n",
      "|    2013-14|         K002|17K002|Parkside Preparat...|         K002| 655 PARKSIDE AVENUE|      K|                        17|     479|655 PARKSIDE AVEN...|        3|Parkside Preparat...|    N/A|  N/A|     N/A|   N/A|  N/A|      3C|  251-500|        #N/A|      #N/A|         #N/A|       #N/A|      #N/A|    BROOKLYN|   11226|40.656183|-73.951583|              9|               40|         802|3378201|3050500051|Prospect Lefferts...|    1|\n",
      "|    2013-14|         K002|75K141|           P.S. K141|         K141| 655 PARKSIDE AVENUE|      K|                        17|     397|655 PARKSIDE AVEN...|        3|Parkside Preparat...|    N/A|  N/A|     N/A|   N/A|  N/A|      3C|  251-500|        #N/A|      #N/A|         #N/A|       #N/A|      #N/A|    BROOKLYN|   11226|40.656183|-73.951583|              9|               40|         802|3378201|3050500051|Prospect Lefferts...|    2|\n",
      "|    2013-14|         K002|84K704|Explore Charter S...|         K704| 655 PARKSIDE AVENUE|      K|                        17|    NULL|655 PARKSIDE AVEN...|        3|Parkside Preparat...|    N/A|  N/A|     N/A|   N/A|  N/A|    #N/A|     #N/A|        #N/A|      #N/A|         #N/A|       #N/A|      #N/A|    BROOKLYN|   11226|40.656183|-73.951583|              9|               40|         802|3378201|3050500051|Prospect Lefferts...|    3|\n",
      "|    2013-14|         K002|  NULL|655 PARKSIDE AVEN...|         NULL| 655 PARKSIDE AVENUE|      K|                        17|     876|655 PARKSIDE AVEN...|        3|Parkside Preparat...|      1|    5|       2|     2|    4|      5C| 751-1000|        0.52|      1.71|         2.49|       1.16|      0.75|    BROOKLYN|   11226|40.656183|-73.951583|              9|               40|         802|3378201|3050500051|Prospect Lefferts...|    4|\n",
      "|    2013-14|         K003|13K003|P.S. 003 The Bedf...|         K003| 50 JEFFERSON AVENUE|      K|                        13|     513|                NULL|        1|P.S. 003 The Bedf...|      2|    0|       0|     2|    0|      4C|  501-750|        0.33|      1.32|         1.76|       0.83|      0.59|    BROOKLYN|   11216|40.682663|-73.955338|              3|               36|         227|3057406|3019980001|        Clinton Hill|    5|\n",
      "|    2013-14|         K005|16K005|P.S. 005 Dr. Rona...|         K005|  820 HANCOCK STREET|      K|                        16|     312|                NULL|        1|P.S. 005 Dr. Rona...|      1|    1|       0|     2|    0|      3C|  251-500|        0.35|      1.06|         1.09|       0.73|       0.5|    BROOKLYN|   11233|40.685695|-73.922463|              3|               41|         377|3039906|3014900001|  Stuyvesant Heights|    6|\n",
      "|    2013-14|         K006|17K006|            P.S. 006|         K006|    43 SNYDER AVENUE|      K|                        17|     714|                NULL|        1|            P.S. 006|      0|    1|       2|     0|    0|      4C|  501-750|        0.33|      1.32|         1.76|       0.83|      0.59|    BROOKLYN|   11226| 40.64859|-73.957138|             14|               40|         794|3117230|3051030079|             Erasmus|    7|\n",
      "|    2013-14|         K007|19K007|P.S. 007 Abraham ...|         K007|  858 JAMAICA AVENUE|      K|                        19|   1,073|                NULL|        1|P.S. 007 Abraham ...|      0|    1|       0|     0|    0|      6C|1001-1250|        0.56|       2.4|         3.56|       1.36|      1.05|    BROOKLYN|   11208|40.689697|-73.873109|              5|               37|      118201|3090998|3041060039|Cypress Hills-Cit...|    8|\n",
      "|    2013-14|         K008|13K008|P.S. 008 Robert F...|         K008|     37 HICKS STREET|      K|                        13|     848|                NULL|        1|P.S. 008 Robert F...|      0|    0|       0|     0|    0|      5C| 751-1000|        0.52|      1.71|         2.49|       1.16|      0.75|    BROOKLYN|   11201| 40.70071|-73.993241|              2|               33|           1|3001540|3002110001|Brooklyn Heights-...|    9|\n",
      "|    2013-14|         K009|13K009|P.S. 009 Teunis G...|         K009| 80 UNDERHILL AVENUE|      K|                        13|     722|80 UNDERHILL AVEN...|        2|P.S. 009 Teunis G...|    N/A|  N/A|     N/A|   N/A|  N/A|      4C|  501-750|        #N/A|      #N/A|         #N/A|       #N/A|      #N/A|    BROOKLYN|   11238|40.678297|-73.965541|              8|               35|         205|3028204|3011450026|    Prospect Heights|   10|\n",
      "|    2013-14|         K009|84K780|Brooklyn East Col...|         K780| 80 UNDERHILL AVENUE|      K|                        13|    NULL|80 UNDERHILL AVEN...|        2|P.S. 009 Teunis G...|    N/A|  N/A|     N/A|   N/A|  N/A|    #N/A|     #N/A|        #N/A|      #N/A|         #N/A|       #N/A|      #N/A|    BROOKLYN|   11238|40.678297|-73.965541|              8|               35|         205|3028204|3011450026|    Prospect Heights|   11|\n",
      "|    2013-14|         K009|  NULL|80 UNDERHILL AVEN...|         NULL| 80 UNDERHILL AVENUE|      K|                        13|     722|80 UNDERHILL AVEN...|        2|P.S. 009 Teunis G...|      0|    1|       1|     1|    0|      4C|  501-750|        0.33|      1.32|         1.76|       0.83|      0.59|    BROOKLYN|   11238|40.678297|-73.965541|              8|               35|         205|3028204|3011450026|    Prospect Heights|   12|\n",
      "|    2013-14|         K010|15K010|Magnet School of ...|         K010|        511 7 AVENUE|      K|                        15|     921|                NULL|        1|Magnet School of ...|      0|    1|       0|     0|    1|      5C| 751-1000|        0.52|      1.71|         2.49|       1.16|      0.75|    BROOKLYN|   11215|40.661061|-73.986534|              7|               38|         149|3016509|3008690001|  Park Slope-Gowanus|   13|\n",
      "|    2013-14|         K011|13K011|P.S. 011 Purvis J...|         K011|  419 WAVERLY AVENUE|      K|                        13|     732|                NULL|        1|P.S. 011 Purvis J...|      1|    0|       1|     1|    0|      4C|  501-750|        0.33|      1.32|         1.76|       0.83|      0.59|    BROOKLYN|   11238|40.685491|-73.966291|              2|               35|         199|3332865|3019620010|        Clinton Hill|   14|\n",
      "|    2013-14|         K012|17K484|Ronald Edmonds Le...|         K484|   430 HOWARD AVENUE|      K|                        23|     146|430 HOWARD AVENUE...|        2|Dr. Jacqueline Pe...|    N/A|  N/A|     N/A|   N/A|  N/A|      2C|    1-250|        #N/A|      #N/A|         #N/A|       #N/A|      #N/A|    BROOKLYN|   11233|40.673073|-73.919594|             16|               41|         363|3039174|3014570032|          Ocean Hill|   15|\n",
      "|    2013-14|         K107|15K107|P.S. 107 John W. ...|         K107|       1301 8 AVENUE|      K|                        15|     578|                NULL|        1|P.S. 107 John W. ...|      0|    1|       0|     1|    0|      4C|  501-750|        0.33|      1.32|         1.76|       0.83|      0.59|    BROOKLYN|   11215|40.663251|-73.981289|              6|               39|         167|3026517|3011010001|  Park Slope-Gowanus|   16|\n",
      "|    2013-14|         K012|17K012|Dr. Jacqueline Pe...|         K012|   430 HOWARD AVENUE|      K|                        23|     211|430 HOWARD AVENUE...|        2|Dr. Jacqueline Pe...|    N/A|  N/A|     N/A|   N/A|  N/A|      2C|    1-250|        #N/A|      #N/A|         #N/A|       #N/A|      #N/A|    BROOKLYN|   11233|40.673073|-73.919594|             16|               41|         363|3039174|3014570032|          Ocean Hill|   17|\n",
      "|    2013-14|         K012|  NULL|430 HOWARD AVENUE...|         NULL|   430 HOWARD AVENUE|      K|                        23|     357|430 HOWARD AVENUE...|        2|Dr. Jacqueline Pe...|      2|    3|       3|     5|    0|      3C|  251-500|        0.35|      1.06|         1.09|       0.73|       0.5|    BROOKLYN|   11233|40.673073|-73.919594|             16|               41|         363|3039174|3014570032|          Ocean Hill|   18|\n",
      "|    2013-14|         K013|19K013|P.S. 013 Roberto ...|         K013|557 PENNSYLVANIA ...|      K|                        19|     494|557 PENNSYLVANIA ...|        2|P.S. 013 Roberto ...|    N/A|  N/A|     N/A|   N/A|  N/A|      3C|  251-500|        #N/A|      #N/A|         #N/A|       #N/A|      #N/A|    BROOKLYN|   11207|40.663673|-73.893754|              5|               42|        1126|3085070|3038230001|East New York (Pe...|   19|\n",
      "+-----------+-------------+------+--------------------+-------------+--------------------+-------+--------------------------+--------+--------------------+---------+--------------------+-------+-----+--------+------+-----+--------+---------+------------+----------+-------------+-----------+----------+------------+--------+---------+----------+---------------+-----------------+------------+-------+----------+--------------------+-----+\n",
      "only showing top 20 rows\n",
      "\n"
     ]
    }
   ],
   "source": [
    "from pyspark.sql.functions import trim, col, row_number, monotonically_increasing_id\n",
    "from pyspark.sql.window import Window\n",
    "\n",
    "# Load the data stored in the file\n",
    "df = spark.read.csv(\"dataset/2010_-_2016_School_Safety_Report_20240413.csv\", header=True, inferSchema=True)\n",
    "\n",
    "# Trim the leading and trailing whitespaces\n",
    "for column in df.columns:\n",
    "    df = df.withColumn(column, trim(col(column)))\n",
    "\n",
    "# Add a unique index to each row\n",
    "df_with_index = df.withColumn('INDEX', row_number().over(Window.orderBy(monotonically_increasing_id())) - 1)\n",
    "\n",
    "df_with_index.show()"
   ]
  },
  {
   "cell_type": "code",
   "execution_count": 3,
   "metadata": {},
   "outputs": [],
   "source": [
    "from pyspark.sql.functions import when\n",
    "from functools import reduce\n",
    "\n",
    "def null_detection(df):\n",
    "\n",
    "    # Define the list of null values\n",
    "    explicit_null_list = ['0', 'N/A', '#N/A', 'n/a', 'No Data', 'Not Applicable']\n",
    "    disguised_null_list = ['01/01/1900', '(999) 999-9999']\n",
    "\n",
    "    # Replace the null values with 'Unknown'\n",
    "    df_null = df\n",
    "    for column in df.columns:\n",
    "        df_null = df_null.withColumn(column, \n",
    "                                     when(col(column).isNull() | col(column).cast(\"string\").isin(explicit_null_list + disguised_null_list), \n",
    "                                          'Unknown').otherwise(col(column).cast(\"string\")))\n",
    "    \n",
    "    # Keep only the rows that contain at least one known value\n",
    "    df_null = df_null.filter(~reduce(lambda x, y: x & y, (col(column) != 'Unknown' for column in df.columns)))\n",
    "    \n",
    "    return df_null"
   ]
  },
  {
   "cell_type": "code",
   "execution_count": 4,
   "metadata": {},
   "outputs": [
    {
     "name": "stderr",
     "output_type": "stream",
     "text": [
      "24/05/08 14:24:17 WARN WindowExec: No Partition Defined for Window operation! Moving all data to a single partition, this can cause serious performance degradation.\n",
      "24/05/08 14:24:17 WARN WindowExec: No Partition Defined for Window operation! Moving all data to a single partition, this can cause serious performance degradation.\n",
      "24/05/08 14:24:17 WARN WindowExec: No Partition Defined for Window operation! Moving all data to a single partition, this can cause serious performance degradation.\n",
      "24/05/08 14:24:17 WARN WindowExec: No Partition Defined for Window operation! Moving all data to a single partition, this can cause serious performance degradation.\n",
      "24/05/08 14:24:17 WARN WindowExec: No Partition Defined for Window operation! Moving all data to a single partition, this can cause serious performance degradation.\n"
     ]
    },
    {
     "name": "stdout",
     "output_type": "stream",
     "text": [
      "+-----------+-------------+-------+--------------------+-------------+--------------------+-------+--------------------------+--------+--------------------+---------+--------------------+-------+-------+--------+-------+-------+--------+---------+------------+----------+-------------+-----------+----------+------------+--------+---------+----------+---------------+-----------------+------------+-------+----------+--------------------+-------+\n",
      "|School Year|Building Code|    DBN|       Location Name|Location Code|             Address|Borough|Geographical District Code|Register|       Building Name|# Schools| Schools in Building|Major N|  Oth N|NoCrim N| Prop N|  Vio N|ENGroupA|   RangeA|AvgOfMajor N|AvgOfOth N|AvgOfNoCrim N|AvgOfProp N|AvgOfVio N|Borough Name|Postcode| Latitude| Longitude|Community Board|Council District |Census Tract|    BIN|       BBL|                 NTA|  INDEX|\n",
      "+-----------+-------------+-------+--------------------+-------------+--------------------+-------+--------------------------+--------+--------------------+---------+--------------------+-------+-------+--------+-------+-------+--------+---------+------------+----------+-------------+-----------+----------+------------+--------+---------+----------+---------------+-----------------+------------+-------+----------+--------------------+-------+\n",
      "|    2013-14|         K001| 15K001| P.S. 001 The Bergen|         K001|       309 47 STREET|      K|                        15|   1,277|             Unknown|        1| P.S. 001 The Bergen|Unknown|      2|       1|      1|Unknown|      7C|1251-1500|        0.86|      3.26|         5.55|       2.17|      1.29|    BROOKLYN|   11220|40.649042|-74.012289|              7|               38|          80|3011821|3007550022|    Sunset Park West|Unknown|\n",
      "|    2013-14|         K002| 17K002|Parkside Preparat...|         K002| 655 PARKSIDE AVENUE|      K|                        17|     479|655 PARKSIDE AVEN...|        3|Parkside Preparat...|Unknown|Unknown| Unknown|Unknown|Unknown|      3C|  251-500|     Unknown|   Unknown|      Unknown|    Unknown|   Unknown|    BROOKLYN|   11226|40.656183|-73.951583|              9|               40|         802|3378201|3050500051|Prospect Lefferts...|      1|\n",
      "|    2013-14|         K002| 75K141|           P.S. K141|         K141| 655 PARKSIDE AVENUE|      K|                        17|     397|655 PARKSIDE AVEN...|        3|Parkside Preparat...|Unknown|Unknown| Unknown|Unknown|Unknown|      3C|  251-500|     Unknown|   Unknown|      Unknown|    Unknown|   Unknown|    BROOKLYN|   11226|40.656183|-73.951583|              9|               40|         802|3378201|3050500051|Prospect Lefferts...|      2|\n",
      "|    2013-14|         K002| 84K704|Explore Charter S...|         K704| 655 PARKSIDE AVENUE|      K|                        17| Unknown|655 PARKSIDE AVEN...|        3|Parkside Preparat...|Unknown|Unknown| Unknown|Unknown|Unknown| Unknown|  Unknown|     Unknown|   Unknown|      Unknown|    Unknown|   Unknown|    BROOKLYN|   11226|40.656183|-73.951583|              9|               40|         802|3378201|3050500051|Prospect Lefferts...|      3|\n",
      "|    2013-14|         K002|Unknown|655 PARKSIDE AVEN...|      Unknown| 655 PARKSIDE AVENUE|      K|                        17|     876|655 PARKSIDE AVEN...|        3|Parkside Preparat...|      1|      5|       2|      2|      4|      5C| 751-1000|        0.52|      1.71|         2.49|       1.16|      0.75|    BROOKLYN|   11226|40.656183|-73.951583|              9|               40|         802|3378201|3050500051|Prospect Lefferts...|      4|\n",
      "|    2013-14|         K003| 13K003|P.S. 003 The Bedf...|         K003| 50 JEFFERSON AVENUE|      K|                        13|     513|             Unknown|        1|P.S. 003 The Bedf...|      2|Unknown| Unknown|      2|Unknown|      4C|  501-750|        0.33|      1.32|         1.76|       0.83|      0.59|    BROOKLYN|   11216|40.682663|-73.955338|              3|               36|         227|3057406|3019980001|        Clinton Hill|      5|\n",
      "|    2013-14|         K005| 16K005|P.S. 005 Dr. Rona...|         K005|  820 HANCOCK STREET|      K|                        16|     312|             Unknown|        1|P.S. 005 Dr. Rona...|      1|      1| Unknown|      2|Unknown|      3C|  251-500|        0.35|      1.06|         1.09|       0.73|       0.5|    BROOKLYN|   11233|40.685695|-73.922463|              3|               41|         377|3039906|3014900001|  Stuyvesant Heights|      6|\n",
      "|    2013-14|         K006| 17K006|            P.S. 006|         K006|    43 SNYDER AVENUE|      K|                        17|     714|             Unknown|        1|            P.S. 006|Unknown|      1|       2|Unknown|Unknown|      4C|  501-750|        0.33|      1.32|         1.76|       0.83|      0.59|    BROOKLYN|   11226| 40.64859|-73.957138|             14|               40|         794|3117230|3051030079|             Erasmus|      7|\n",
      "|    2013-14|         K007| 19K007|P.S. 007 Abraham ...|         K007|  858 JAMAICA AVENUE|      K|                        19|   1,073|             Unknown|        1|P.S. 007 Abraham ...|Unknown|      1| Unknown|Unknown|Unknown|      6C|1001-1250|        0.56|       2.4|         3.56|       1.36|      1.05|    BROOKLYN|   11208|40.689697|-73.873109|              5|               37|      118201|3090998|3041060039|Cypress Hills-Cit...|      8|\n",
      "|    2013-14|         K008| 13K008|P.S. 008 Robert F...|         K008|     37 HICKS STREET|      K|                        13|     848|             Unknown|        1|P.S. 008 Robert F...|Unknown|Unknown| Unknown|Unknown|Unknown|      5C| 751-1000|        0.52|      1.71|         2.49|       1.16|      0.75|    BROOKLYN|   11201| 40.70071|-73.993241|              2|               33|           1|3001540|3002110001|Brooklyn Heights-...|      9|\n",
      "|    2013-14|         K009| 13K009|P.S. 009 Teunis G...|         K009| 80 UNDERHILL AVENUE|      K|                        13|     722|80 UNDERHILL AVEN...|        2|P.S. 009 Teunis G...|Unknown|Unknown| Unknown|Unknown|Unknown|      4C|  501-750|     Unknown|   Unknown|      Unknown|    Unknown|   Unknown|    BROOKLYN|   11238|40.678297|-73.965541|              8|               35|         205|3028204|3011450026|    Prospect Heights|     10|\n",
      "|    2013-14|         K009| 84K780|Brooklyn East Col...|         K780| 80 UNDERHILL AVENUE|      K|                        13| Unknown|80 UNDERHILL AVEN...|        2|P.S. 009 Teunis G...|Unknown|Unknown| Unknown|Unknown|Unknown| Unknown|  Unknown|     Unknown|   Unknown|      Unknown|    Unknown|   Unknown|    BROOKLYN|   11238|40.678297|-73.965541|              8|               35|         205|3028204|3011450026|    Prospect Heights|     11|\n",
      "|    2013-14|         K009|Unknown|80 UNDERHILL AVEN...|      Unknown| 80 UNDERHILL AVENUE|      K|                        13|     722|80 UNDERHILL AVEN...|        2|P.S. 009 Teunis G...|Unknown|      1|       1|      1|Unknown|      4C|  501-750|        0.33|      1.32|         1.76|       0.83|      0.59|    BROOKLYN|   11238|40.678297|-73.965541|              8|               35|         205|3028204|3011450026|    Prospect Heights|     12|\n",
      "|    2013-14|         K010| 15K010|Magnet School of ...|         K010|        511 7 AVENUE|      K|                        15|     921|             Unknown|        1|Magnet School of ...|Unknown|      1| Unknown|Unknown|      1|      5C| 751-1000|        0.52|      1.71|         2.49|       1.16|      0.75|    BROOKLYN|   11215|40.661061|-73.986534|              7|               38|         149|3016509|3008690001|  Park Slope-Gowanus|     13|\n",
      "|    2013-14|         K011| 13K011|P.S. 011 Purvis J...|         K011|  419 WAVERLY AVENUE|      K|                        13|     732|             Unknown|        1|P.S. 011 Purvis J...|      1|Unknown|       1|      1|Unknown|      4C|  501-750|        0.33|      1.32|         1.76|       0.83|      0.59|    BROOKLYN|   11238|40.685491|-73.966291|              2|               35|         199|3332865|3019620010|        Clinton Hill|     14|\n",
      "|    2013-14|         K012| 17K484|Ronald Edmonds Le...|         K484|   430 HOWARD AVENUE|      K|                        23|     146|430 HOWARD AVENUE...|        2|Dr. Jacqueline Pe...|Unknown|Unknown| Unknown|Unknown|Unknown|      2C|    1-250|     Unknown|   Unknown|      Unknown|    Unknown|   Unknown|    BROOKLYN|   11233|40.673073|-73.919594|             16|               41|         363|3039174|3014570032|          Ocean Hill|     15|\n",
      "|    2013-14|         K107| 15K107|P.S. 107 John W. ...|         K107|       1301 8 AVENUE|      K|                        15|     578|             Unknown|        1|P.S. 107 John W. ...|Unknown|      1| Unknown|      1|Unknown|      4C|  501-750|        0.33|      1.32|         1.76|       0.83|      0.59|    BROOKLYN|   11215|40.663251|-73.981289|              6|               39|         167|3026517|3011010001|  Park Slope-Gowanus|     16|\n",
      "|    2013-14|         K012| 17K012|Dr. Jacqueline Pe...|         K012|   430 HOWARD AVENUE|      K|                        23|     211|430 HOWARD AVENUE...|        2|Dr. Jacqueline Pe...|Unknown|Unknown| Unknown|Unknown|Unknown|      2C|    1-250|     Unknown|   Unknown|      Unknown|    Unknown|   Unknown|    BROOKLYN|   11233|40.673073|-73.919594|             16|               41|         363|3039174|3014570032|          Ocean Hill|     17|\n",
      "|    2013-14|         K012|Unknown|430 HOWARD AVENUE...|      Unknown|   430 HOWARD AVENUE|      K|                        23|     357|430 HOWARD AVENUE...|        2|Dr. Jacqueline Pe...|      2|      3|       3|      5|Unknown|      3C|  251-500|        0.35|      1.06|         1.09|       0.73|       0.5|    BROOKLYN|   11233|40.673073|-73.919594|             16|               41|         363|3039174|3014570032|          Ocean Hill|     18|\n",
      "|    2013-14|         K013| 19K013|P.S. 013 Roberto ...|         K013|557 PENNSYLVANIA ...|      K|                        19|     494|557 PENNSYLVANIA ...|        2|P.S. 013 Roberto ...|Unknown|Unknown| Unknown|Unknown|Unknown|      3C|  251-500|     Unknown|   Unknown|      Unknown|    Unknown|   Unknown|    BROOKLYN|   11207|40.663673|-73.893754|              5|               42|        1126|3085070|3038230001|East New York (Pe...|     19|\n",
      "+-----------+-------------+-------+--------------------+-------------+--------------------+-------+--------------------------+--------+--------------------+---------+--------------------+-------+-------+--------+-------+-------+--------+---------+------------+----------+-------------+-----------+----------+------------+--------+---------+----------+---------------+-----------------+------------+-------+----------+--------------------+-------+\n",
      "only showing top 20 rows\n",
      "\n"
     ]
    },
    {
     "name": "stderr",
     "output_type": "stream",
     "text": [
      "24/05/08 14:24:25 WARN GarbageCollectionMetrics: To enable non-built-in garbage collector(s) List(G1 Concurrent GC), users should configure it(them) to spark.eventLog.gcMetrics.youngGenerationGarbageCollectors or spark.eventLog.gcMetrics.oldGenerationGarbageCollectors\n"
     ]
    }
   ],
   "source": [
    "# Detect null values\n",
    "df_null = null_detection(df_with_index)\n",
    "\n",
    "df_null.show()"
   ]
  }
 ],
 "metadata": {
  "kernelspec": {
   "display_name": "spark_env",
   "language": "python",
   "name": "python3"
  },
  "language_info": {
   "codemirror_mode": {
    "name": "ipython",
    "version": 3
   },
   "file_extension": ".py",
   "mimetype": "text/x-python",
   "name": "python",
   "nbconvert_exporter": "python",
   "pygments_lexer": "ipython3",
   "version": "3.8.19"
  }
 },
 "nbformat": 4,
 "nbformat_minor": 2
}

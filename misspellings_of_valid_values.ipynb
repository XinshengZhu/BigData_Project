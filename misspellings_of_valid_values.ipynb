{
 "cells": [
  {
   "cell_type": "code",
   "execution_count": 1,
   "metadata": {},
   "outputs": [
    {
     "name": "stderr",
     "output_type": "stream",
     "text": [
      "Setting default log level to \"WARN\".\n",
      "To adjust logging level use sc.setLogLevel(newLevel). For SparkR, use setLogLevel(newLevel).\n",
      "24/05/08 14:32:56 WARN NativeCodeLoader: Unable to load native-hadoop library for your platform... using builtin-java classes where applicable\n",
      "24/05/08 14:32:56 WARN Utils: Service 'SparkUI' could not bind on port 4040. Attempting port 4041.\n"
     ]
    }
   ],
   "source": [
    "from pyspark import SparkContext, SparkConf\n",
    "from pyspark.sql import SparkSession\n",
    "\n",
    "cf = SparkConf()\n",
    "cf.set(\"spark.submit.deployMode\",\"client\")\n",
    "sc = SparkContext.getOrCreate(cf)\n",
    "\n",
    "spark = SparkSession \\\n",
    "    .builder \\\n",
    "        .appName(\"misspellings_of_valid_values\") \\\n",
    "            .config(\"spark.some.config.option\", \"some-value\") \\\n",
    "                .getOrCreate()"
   ]
  },
  {
   "cell_type": "code",
   "execution_count": 2,
   "metadata": {},
   "outputs": [
    {
     "name": "stdout",
     "output_type": "stream",
     "text": [
      "Requirement already satisfied: jellyfish in /opt/homebrew/Caskroom/miniforge/base/envs/spark_env/lib/python3.8/site-packages (1.0.3)\n",
      "Note: you may need to restart the kernel to use updated packages.\n"
     ]
    }
   ],
   "source": [
    "%pip install jellyfish"
   ]
  },
  {
   "cell_type": "code",
   "execution_count": 3,
   "metadata": {},
   "outputs": [
    {
     "name": "stderr",
     "output_type": "stream",
     "text": [
      "24/05/08 14:33:01 WARN WindowExec: No Partition Defined for Window operation! Moving all data to a single partition, this can cause serious performance degradation.\n",
      "24/05/08 14:33:01 WARN WindowExec: No Partition Defined for Window operation! Moving all data to a single partition, this can cause serious performance degradation.\n",
      "24/05/08 14:33:01 WARN WindowExec: No Partition Defined for Window operation! Moving all data to a single partition, this can cause serious performance degradation.\n",
      "24/05/08 14:33:01 WARN SparkStringUtils: Truncated the string representation of a plan since it was too large. This behavior can be adjusted by setting 'spark.sql.debug.maxToStringFields'.\n",
      "[Stage 2:===========>                                              (2 + 8) / 10]\r"
     ]
    },
    {
     "name": "stdout",
     "output_type": "stream",
     "text": [
      "+----------+----------+--------------------+----------+--------------------+----------------+-----+----------+--------------+-----+----------------+----------------+--------------+---------------+-------+-----------+---------+----------+---------------+----------------+------------+---------+----------+--------------------+----+-----+\n",
      "|   CREATED|BIC NUMBER|        ACCOUNT NAME|TRADE NAME|             ADDRESS|            CITY|STATE|  POSTCODE|         PHONE|EMAIL|APPLICATION TYPE|DISPOSITION DATE|EFFECTIVE DATE|EXPIRATION DATE|RENEWAL|EXPORT DATE| LATITUDE| LONGITUDE|COMMUNITY BOARD|COUNCIL DISTRICT|CENSUS TRACT|      BIN|       BBL|                 NTA|BORO|INDEX|\n",
      "+----------+----------+--------------------+----------+--------------------+----------------+-----+----------+--------------+-----+----------------+----------------+--------------+---------------+-------+-----------+---------+----------+---------------+----------------+------------+---------+----------+--------------------+----+-----+\n",
      "|04/03/2017|BIC-489972|116 ROSEVIEW APT INC|      NULL|       54 WREN DRIVE|      EAST HILLS|   NY|     11576|(516) 852-8989| NULL|    CL2 - Exempt|            NULL|          NULL|           NULL|   NULL| 04/03/2017|     NULL|      NULL|           NULL|            NULL|        NULL|     NULL|      NULL|                NULL|NULL|    0|\n",
      "|04/03/2017|BIC-490304|1ST CLASS CONTRAC...|      NULL|  24-04 201ST STREET|         BAYSIDE|   NY|     11360|(718) 224-2622| NULL|    CL2 - Exempt|            NULL|          NULL|           NULL|   NULL| 04/03/2017|40.775707|-73.790822|              7|              19|     99701.0|4129840.0|4057980032|Ft. Totten-Bay Te...|NULL|    1|\n",
      "|04/03/2017|  BIC-4117|24 SEVEN PLUMBING...|      NULL|        P.O. BOX 244|        WOODMERE|   NY|     11598|(718) 680-6200| NULL|    CL2 - Exempt|            NULL|          NULL|           NULL|   NULL| 04/03/2017|     NULL|      NULL|           NULL|            NULL|        NULL|     NULL|      NULL|                NULL|NULL|    2|\n",
      "|04/03/2017|BIC-487601|     3 G HAULING LLC|      NULL|    950 Sinclair Ave|   Staten Island|   NY|10309-2231|(718) 753-8818| NULL|    CL2 - Exempt|            NULL|          NULL|           NULL|   NULL| 04/03/2017|40.538805|-74.207641|              3|              51|     20803.0|5085023.0|5069300060|   Rossville-Woodrow|NULL|    3|\n",
      "|04/03/2017|   BIC-946|    3 L. BROS. CORP.|      NULL|   130 BAYARD STREET|        BROOKLYN|   NY|     11222|(718) 387-4950| NULL|    CL2 - Exempt|            NULL|          NULL|           NULL|   NULL| 04/03/2017|40.719695|-73.946793|              1|              33|       499.0|3067916.0|3027240010|          Greenpoint|NULL|    4|\n",
      "|04/03/2017|  BIC-2649|3J'S RESTORATION,...|      NULL| 293 N. UTICA AVENUE|NORTH MASSAPEQUA|   NY|     11758|(646) 728-0383| NULL|    CL2 - Exempt|            NULL|          NULL|           NULL|   NULL| 04/03/2017|     NULL|      NULL|           NULL|            NULL|        NULL|     NULL|      NULL|                NULL|NULL|    5|\n",
      "|04/03/2017|  BIC-3006|5 BROS. TRUCKING,...|      NULL|1818 FALMOUTH AVENUE|   NEW HYDE PARK|   NY|     11040|(516) 352-7868| NULL|    CL2 - Exempt|            NULL|          NULL|           NULL|   NULL| 04/03/2017|     NULL|      NULL|           NULL|            NULL|        NULL|     NULL|      NULL|                NULL|NULL|    6|\n",
      "|04/03/2017|BIC-485179|58A JVD INDUSTRIE...|      NULL|261 WEST LINCOLN ...|    MOUNT VERNON|   NY|     10550|(914) 699-5805| NULL|    CL2 - Exempt|            NULL|          NULL|           NULL|   NULL| 04/03/2017|     NULL|      NULL|           NULL|            NULL|        NULL|     NULL|      NULL|                NULL|NULL|    7|\n",
      "|04/03/2017|  BIC-3864|7TH STAR RENOVATI...|      NULL|95 EAST 165TH STREET|           BRONX|   NY|     10452|(917) 473-7279| NULL|    CL2 - Exempt|            NULL|          NULL|           NULL|   NULL| 04/03/2017|40.831531|-73.922196|              4|              16|       195.0|2002953.0|2024780064|      West Concourse|NULL|    8|\n",
      "|04/03/2017|  BIC-4342|8 AVE DEBRIS REMO...|      NULL|  778 48Th St , 2 FL|        BROOKLYN|   NY|     11220|(917) 535-2772| NULL|    CL2 - Exempt|            NULL|          NULL|           NULL|   NULL| 04/03/2017| 40.64262|-74.003196|              7|              38|       108.0|3012768.0|3007770036|    Sunset Park East|NULL|    9|\n",
      "|04/03/2017|  BIC-2961|        8 SPEED INC.|      NULL|      21912 43Rd Ave|         Bayside|   NY|11361-3523|(917) 531-0318| NULL|    CL2 - Exempt|            NULL|          NULL|           NULL|   NULL| 04/03/2017|40.762583|-73.763093|             11|              19|      1471.0|4138688.0|4063220006|Bayside-Bayside H...|NULL|   10|\n",
      "|04/03/2017|  BIC-3302|A & G PLASTERING ...|      NULL|1601 BRONXDALE AV...|           BRONX|   NY|     10462|(718) 409-1100| NULL|    CL2 - Exempt|            NULL|          NULL|           NULL|   NULL| 04/03/2017|40.843548|-73.856945|             11|              13|       238.0|2043253.0|2040420200|Van Nest-Morris P...|NULL|   11|\n",
      "|04/03/2017|BIC-489817|A & I DEVELOPERS,...|      NULL|   159-20 115TH ROAD|         JAMAICA|   NY|     11434|          NULL| NULL|    CL2 - Exempt|            NULL|          NULL|           NULL|   NULL| 04/03/2017|40.687385|-73.786928|             12|              28|       276.0|4264604.0|4121990009|        Baisley Park|NULL|   12|\n",
      "|04/03/2017|BIC-485180|   A & M CARTING INC|      NULL|        P.O.BOX 1305|    WEST BABYLON|   NY|     11704|(631) 943-8668| NULL|    CL2 - Exempt|            NULL|          NULL|           NULL|   NULL| 04/03/2017|     NULL|      NULL|           NULL|            NULL|        NULL|     NULL|      NULL|                NULL|NULL|   13|\n",
      "|04/03/2017|BIC-485073|A & V ENTERPRISE,...|      NULL|  7 DEMARTINO AVENUE|         YONKERS|   NY|     10703|(914) 469-8940| NULL|    CL2 - Exempt|            NULL|          NULL|           NULL|   NULL| 04/03/2017|     NULL|      NULL|           NULL|            NULL|        NULL|     NULL|      NULL|                NULL|NULL|   14|\n",
      "|04/03/2017|  BIC-3221|A PLUS CONCRETE A...|      NULL|    10 MALLOW STREET|   STATEN ISLAND|   NY|     10309|(718) 317-6007| NULL|    CL2 - Exempt|            NULL|          NULL|           NULL|   NULL| 04/03/2017|40.545079|-74.208225|              3|              51|     20801.0|5079764.0|5061460075|   Rossville-Woodrow|NULL|   15|\n",
      "|04/03/2017|  BIC-4013|A REAL ADVANTAGE ...|      NULL|     P.O. BOX 580066|        FLUSHING|   NY|     11358|(718) 767-6950| NULL|    CL2 - Exempt|            NULL|          NULL|           NULL|   NULL| 04/03/2017|     NULL|      NULL|           NULL|            NULL|        NULL|     NULL|      NULL|                NULL|NULL|   16|\n",
      "|04/03/2017|  BIC-4162|A S M CONSTRUCTIO...|      NULL|     39 PERRY AVENUE|   STATEN ISLAND|   NY|     10314|(718) 698-6365| NULL|    CL2 - Exempt|            NULL|          NULL|           NULL|   NULL| 04/03/2017|  40.6115| -74.13011|              1|              50|     18701.0|5018283.0|5007220084|         Westerleigh|NULL|   17|\n",
      "|04/03/2017|BIC-488438| A V B TRUCKING CORP|      NULL|    33 N 13TH STREET|      KENILWORTH|   NJ|     07033|(973) 220-2296| NULL|    CL2 - Exempt|            NULL|          NULL|           NULL|   NULL| 04/03/2017|     NULL|      NULL|           NULL|            NULL|        NULL|     NULL|      NULL|                NULL|NULL|   18|\n",
      "|04/03/2017|  BIC-1982|A. DILEMME CONTRA...|      NULL|  46 SATTERIE AVENUE|   VALLEY STREAM|   NY|     11580|(516) 825-6087| NULL|    CL2 - Exempt|            NULL|          NULL|           NULL|   NULL| 04/03/2017|     NULL|      NULL|           NULL|            NULL|        NULL|     NULL|      NULL|                NULL|NULL|   19|\n",
      "+----------+----------+--------------------+----------+--------------------+----------------+-----+----------+--------------+-----+----------------+----------------+--------------+---------------+-------+-----------+---------+----------+---------------+----------------+------------+---------+----------+--------------------+----+-----+\n",
      "only showing top 20 rows\n",
      "\n"
     ]
    },
    {
     "name": "stderr",
     "output_type": "stream",
     "text": [
      "                                                                                \r"
     ]
    }
   ],
   "source": [
    "from pyspark.sql.functions import trim, col, row_number, monotonically_increasing_id\n",
    "from pyspark.sql.window import Window\n",
    "\n",
    "# Load the data stored in the file\n",
    "df = spark.read.csv(\"dataset/Construction_Demolition_Registrants_20240413.csv\", header=True, inferSchema=True)\n",
    "\n",
    "# Trim the leading and trailing whitespaces\n",
    "for column in df.columns:\n",
    "    df = df.withColumn(column, trim(col(column)))\n",
    "\n",
    "# Add a unique index to each row\n",
    "df_with_index = df.withColumn('INDEX', row_number().over(Window.orderBy(monotonically_increasing_id())) - 1)\n",
    "\n",
    "df_with_index.show()"
   ]
  },
  {
   "cell_type": "code",
   "execution_count": 4,
   "metadata": {},
   "outputs": [],
   "source": [
    "from pyspark.sql.functions import lit, collect_list, when\n",
    "import jellyfish\n",
    "\n",
    "def misspelling_detection(df, partition_columns, target_column, window_size=4, threshold=5):\n",
    "\n",
    "    # Create a new column to flag the misspelling\n",
    "    df_misspelling = df.withColumn('MISSPELLING', lit(''))\n",
    "\n",
    "    # Remove the rows with null values in the partition columns and the target column\n",
    "    df_misspelling = df_misspelling.na.drop(subset=partition_columns+[target_column])\n",
    "\n",
    "    # Sort the dataframe by the target column\n",
    "    df_misspelling = df_misspelling.sort(target_column)\n",
    "\n",
    "    # Group the target column by the partition columns\n",
    "    grouped = df_misspelling.groupBy(partition_columns).agg(collect_list(target_column).alias(target_column), collect_list('INDEX').alias('INDEX'))\n",
    "\n",
    "    # Detect the misspelling by using the Sorted-Neighborhood algorithm\n",
    "    for row in grouped.collect():\n",
    "        partition = row.asDict()\n",
    "        target_list = partition[target_column]\n",
    "        index_list = partition['INDEX']\n",
    "        for i in range(0, len(target_list) - window_size + 1, window_size - 1):\n",
    "            flag = False\n",
    "            temp = []\n",
    "            temp.append(index_list[i])\n",
    "            for j in range(i + 1, i + window_size):\n",
    "                temp.append(index_list[j])\n",
    "                if (\n",
    "                    flag == False and\n",
    "                    jellyfish.levenshtein_distance(target_list[i], target_list[j]) in range(1, threshold + 1)\n",
    "                ):\n",
    "                    flag = True\n",
    "            if flag == True:\n",
    "                temp_str = ' '.join([str(x) for x in temp])\n",
    "                df_misspelling = df_misspelling.withColumn('MISSPELLING', when(col('INDEX').isin(temp), temp_str).otherwise(col('MISSPELLING')))\n",
    "\n",
    "    # Keep only the rows that contain misspelling flags\n",
    "    df_misspelling = df_misspelling.filter(col('MISSPELLING') != '').sort('MISSPELLING')\n",
    "\n",
    "    return df_misspelling"
   ]
  },
  {
   "cell_type": "code",
   "execution_count": 5,
   "metadata": {},
   "outputs": [
    {
     "name": "stderr",
     "output_type": "stream",
     "text": [
      "24/05/08 14:33:03 WARN WindowExec: No Partition Defined for Window operation! Moving all data to a single partition, this can cause serious performance degradation.\n",
      "24/05/08 14:33:03 WARN WindowExec: No Partition Defined for Window operation! Moving all data to a single partition, this can cause serious performance degradation.\n",
      "24/05/08 14:33:03 WARN WindowExec: No Partition Defined for Window operation! Moving all data to a single partition, this can cause serious performance degradation.\n",
      "24/05/08 14:33:03 WARN WindowExec: No Partition Defined for Window operation! Moving all data to a single partition, this can cause serious performance degradation.\n",
      "24/05/08 14:33:08 WARN WindowExec: No Partition Defined for Window operation! Moving all data to a single partition, this can cause serious performance degradation.\n",
      "24/05/08 14:33:08 WARN WindowExec: No Partition Defined for Window operation! Moving all data to a single partition, this can cause serious performance degradation.\n",
      "24/05/08 14:33:08 WARN WindowExec: No Partition Defined for Window operation! Moving all data to a single partition, this can cause serious performance degradation.\n",
      "24/05/08 14:33:08 WARN WindowExec: No Partition Defined for Window operation! Moving all data to a single partition, this can cause serious performance degradation.\n",
      "24/05/08 14:33:08 WARN WindowExec: No Partition Defined for Window operation! Moving all data to a single partition, this can cause serious performance degradation.\n",
      "24/05/08 14:33:08 WARN GarbageCollectionMetrics: To enable non-built-in garbage collector(s) List(G1 Concurrent GC), users should configure it(them) to spark.eventLog.gcMetrics.youngGenerationGarbageCollectors or spark.eventLog.gcMetrics.oldGenerationGarbageCollectors\n",
      "[Stage 9:>                                                          (0 + 1) / 1]\r"
     ]
    },
    {
     "name": "stdout",
     "output_type": "stream",
     "text": [
      "+---------+----------+--------------------+-------+\n",
      "| LATITUDE| LONGITUDE|             ADDRESS|  INDEX|\n",
      "+---------+----------+--------------------+-------+\n",
      "|40.755247|-73.900527|32-37 62ND STREET...| 100625|\n",
      "|40.755247|-73.900527|32-37 62ND STREET...| 101767|\n",
      "|40.755247|-73.900527|32-37 62ND STREET...| 102655|\n",
      "|40.755247|-73.900527|32-37 62ND STREET...| 103838|\n",
      "|40.790356|-73.795417|       16804 12Th Rd|    954|\n",
      "|40.790356|-73.795417|       16804 12Th Rd|   2098|\n",
      "|40.790356|-73.795417|    168-04 12TH ROAD|1244633|\n",
      "|40.790356|-73.795417|    168-04 12TH ROAD|1245877|\n",
      "|40.723357|-73.751186|     89-23 212 PLACE|1250364|\n",
      "|40.723357|-73.751186|     89-23 212 PLACE|1251586|\n",
      "|40.723357|-73.751186|   89-23 212TH PLACE|1747575|\n",
      "|40.723357|-73.751186|   89-23 212TH PLACE|1748610|\n",
      "|40.669153|-73.799978|   137-28 133 AVENUE|1276837|\n",
      "|40.669153|-73.799978|   137-28 133 AVENUE|1274621|\n",
      "|40.669153|-73.799978|   137-28 133 AVENUE|1275675|\n",
      "|40.669153|-73.799978| 137-28 133RD AVENUE|1880248|\n",
      "|40.791512|-73.806883|  154-36 12TH AVENUE| 129753|\n",
      "|40.791512|-73.806883|  154-36 12TH AVENUE| 130673|\n",
      "|40.791512|-73.806883|    154-36 12 AVENUE| 128836|\n",
      "|40.791512|-73.806883|    154-36 12 AVENUE| 127696|\n",
      "+---------+----------+--------------------+-------+\n",
      "only showing top 20 rows\n",
      "\n"
     ]
    },
    {
     "name": "stderr",
     "output_type": "stream",
     "text": [
      "                                                                                \r"
     ]
    }
   ],
   "source": [
    "# Detect misspelling\n",
    "latitude_column = [column for column in df.columns if 'latitude' in column.lower()][0]\n",
    "longitude_column = [column for column in df.columns if 'longitude' in column.lower()][0]\n",
    "partition_columns = [latitude_column, longitude_column]\n",
    "target_column = [column for column in df.columns if 'address' in column.lower() or 'street' in column.lower()][0]\n",
    "df_misspelling = misspelling_detection(df_with_index, partition_columns, target_column)\n",
    "\n",
    "\n",
    "df_misspelling.select(partition_columns+[target_column]+[\"INDEX\"]).show()"
   ]
  },
  {
   "cell_type": "code",
   "execution_count": 6,
   "metadata": {},
   "outputs": [],
   "source": [
    "from pyspark.sql.functions import udf, concat\n",
    "from pyspark.sql.types import BooleanType\n",
    "\n",
    "def jaro_winkler_similarity(value, vocab):\n",
    "\n",
    "    if value is None:\n",
    "        return False\n",
    "    if value not in vocab:\n",
    "        for v in vocab:\n",
    "            if jellyfish.jaro_winkler_similarity(value, v) < 0.9:\n",
    "                return True\n",
    "    return False\n",
    "\n",
    "def vocabulary_misspelling_detection(df):\n",
    "\n",
    "    # Create a new column to flag the misspelling compared to the vocabulary\n",
    "    df_vocabulary_misspelling = df.withColumn('VOCAB', lit(''))\n",
    "\n",
    "    # Define the list of columns that need to be checked\n",
    "    nta_column = [column for column in df.columns if 'nta' in column.lower()][0]\n",
    "    boro_column = [column for column in df.columns if 'boro' in column.lower()][0]\n",
    "\n",
    "    # Define the list of vocabularies\n",
    "    vocab_boro = ['MANHATTAN', 'BRONX', 'BROOKLYN', 'QUEENS', 'STATEN IS']\n",
    "    with open('reference/NTAName.txt', 'r') as file:\n",
    "        vocab_nta = file.read().splitlines()\n",
    "\n",
    "    # Define the user-defined functions\n",
    "    NTA_similarity_udf = udf(lambda x: jaro_winkler_similarity(x, vocab_nta), BooleanType())\n",
    "    BORO_similarity_udf = udf(lambda x: jaro_winkler_similarity(x, vocab_boro), BooleanType())\n",
    "\n",
    "    # Detect the vocabulary violations\n",
    "    df_vocabulary_misspelling = df_vocabulary_misspelling.withColumn('VOCAB',\n",
    "                                      when(col(nta_column).isNotNull() & NTA_similarity_udf(trim(col(nta_column))), \n",
    "                                           concat(col('VOCAB'), lit(','), lit(nta_column))).otherwise(col('VOCAB')))\n",
    "    df_vocabulary_misspelling = df_vocabulary_misspelling.withColumn('VOCAB',\n",
    "                                      when(col(boro_column).isNotNull() & BORO_similarity_udf(trim(col(boro_column))), \n",
    "                                           concat(col('VOCAB'), lit(','), lit(boro_column))).otherwise(col('VOCAB')))\n",
    "    \n",
    "    # Keep only the rows that contain vocabulary misspelling flags\n",
    "    df_vocabulary_misspelling = df_vocabulary_misspelling.filter(col('VOCAB') != '')\n",
    "\n",
    "    return df_vocabulary_misspelling"
   ]
  },
  {
   "cell_type": "code",
   "execution_count": 7,
   "metadata": {},
   "outputs": [
    {
     "name": "stderr",
     "output_type": "stream",
     "text": [
      "24/05/08 14:33:12 WARN WindowExec: No Partition Defined for Window operation! Moving all data to a single partition, this can cause serious performance degradation.\n",
      "24/05/08 14:33:12 WARN WindowExec: No Partition Defined for Window operation! Moving all data to a single partition, this can cause serious performance degradation.\n",
      "24/05/08 14:33:12 WARN WindowExec: No Partition Defined for Window operation! Moving all data to a single partition, this can cause serious performance degradation.\n",
      "24/05/08 14:33:14 WARN WindowExec: No Partition Defined for Window operation! Moving all data to a single partition, this can cause serious performance degradation.\n",
      "24/05/08 14:33:14 WARN WindowExec: No Partition Defined for Window operation! Moving all data to a single partition, this can cause serious performance degradation.\n",
      "[Stage 12:>                                                         (0 + 1) / 1]\r"
     ]
    },
    {
     "name": "stdout",
     "output_type": "stream",
     "text": [
      "+----------+----------+--------------------+----------------+--------------------+----------------+-----+----------+--------------+-----+----------------+----------------+--------------+---------------+-------+-----------+--------+---------+---------------+----------------+------------+----------+---+---+-----+------+---------+\n",
      "|   CREATED|BIC NUMBER|        ACCOUNT NAME|      TRADE NAME|             ADDRESS|            CITY|STATE|  POSTCODE|         PHONE|EMAIL|APPLICATION TYPE|DISPOSITION DATE|EFFECTIVE DATE|EXPIRATION DATE|RENEWAL|EXPORT DATE|LATITUDE|LONGITUDE|COMMUNITY BOARD|COUNCIL DISTRICT|CENSUS TRACT|       BIN|BBL|NTA| BORO| INDEX|    VOCAB|\n",
      "+----------+----------+--------------------+----------------+--------------------+----------------+-----+----------+--------------+-----+----------------+----------------+--------------+---------------+-------+-----------+--------+---------+---------------+----------------+------------+----------+---+---+-----+------+---------+\n",
      "|06/18/2018|  BIC-4565|  HCM TRUCKING CORP.|            NULL|  86-74 108TH STREET|   RICHMOND HILL|   NY|     11418|(917) 578-5839| NULL|    CL2 - Exempt|            NULL|          NULL|           NULL|   NULL| 06/18/2018|    NULL|     NULL|           NULL|            NULL|   40.696334|-73.839871|  9| 32|  128|351612|,NTA,BORO|\n",
      "|06/18/2018|BIC-482871|    IMVROS WASTE INC|            NULL| 110-32A 15TH AVENUE|   COLLEGE POINT|   NY|     11356|(718) 663-2200| NULL|    CL2 - Exempt|            NULL|          NULL|           NULL|   NULL| 06/18/2018|    NULL|     NULL|           NULL|            NULL|   40.783803|-73.856459|  7| 19|  929|351631|,NTA,BORO|\n",
      "|06/18/2018|  BIC-2072| HNS ENTERPRISE INC.|            NULL| 139-39 228TH STREET|       LAURELTON|   NY|     11413|(718) 712-0382| NULL|    CL2 - Exempt|            NULL|          NULL|           NULL|   NULL| 06/18/2018|    NULL|     NULL|           NULL|            NULL|   40.669059|-73.746923| 13| 31|  650|351651|,NTA,BORO|\n",
      "|06/18/2018|   BIC-573|H.L. GENERAL CONT...|            NULL| 197 COLUMBIA STREET|        BROOKLYN|   NY|     11231|(718) 834-8675| NULL|    CL2 - Exempt|            NULL|          NULL|           NULL|   NULL| 06/18/2018|    NULL|     NULL|           NULL|            NULL|   40.685367|-74.002524|  6| 39|   51|351708|,NTA,BORO|\n",
      "|06/18/2018|BIC-485168|HARLEM VALLEY COR...|            NULL|      4234 VIREO AVE|           BRONX|   NY|     10470|(347) 341-5816| NULL|    CL2 - Exempt|            NULL|          NULL|           NULL|   NULL| 06/18/2018|    NULL|     NULL|           NULL|            NULL|    40.89672|-73.864524| 12| 11|45101|351711|,NTA,BORO|\n",
      "|06/18/2018|BIC-485863|HARRIS WATER MAIN...|            NULL|2600 ATLANTIC AVENUE|        BROOKLYN|   NY|     11207|(718) 495-3600| NULL|    CL2 - Exempt|            NULL|          NULL|           NULL|   NULL| 06/18/2018|    NULL|     NULL|           NULL|            NULL|   40.675639|-73.898346|  5| 37| 1198|351712|,NTA,BORO|\n",
      "|06/18/2018|  BIC-2094|     HAULERS INC. NY|            NULL|   127 WILLOW AVENUE|   STATEN ISLAND|   NY|     10305|(718) 815-9400| NULL|    CL2 - Exempt|            NULL|          NULL|           NULL|   NULL| 06/18/2018|    NULL|     NULL|           NULL|            NULL|   40.617383|-74.073362|  1| 49|    8|351713|,NTA,BORO|\n",
      "|06/18/2018|BIC-491425|HECTOR & O'DHARA ...|H&O HAULING INC.|1092 WILLMOHR STR...|        BROOKLYN|   NY|     11212|(917) 749-4477| NULL|    CL2 - Exempt|            NULL|          NULL|           NULL|   NULL| 06/18/2018|    NULL|     NULL|           NULL|            NULL|   40.656896|-73.917927| 17| 42|  890|351714|,NTA,BORO|\n",
      "|06/18/2018|  BIC-4227|HI-TECH HEATING C...|            NULL| 159-51 102ND STREET|    HOWARD BEACH|   NY|     11414|(718) 323-5430| NULL|    CL2 - Exempt|            NULL|          NULL|           NULL|   NULL| 06/18/2018|    NULL|     NULL|           NULL|            NULL|   40.659025| -73.83117| 10| 32|  884|351715|,NTA,BORO|\n",
      "|06/18/2018|BIC-494671|HOLY WOOD CONSTRU...|            NULL|    84-11 21 AVE #D6|        BROOKLYN|   NY|     11214|(917) 615-8723| NULL|    CL2 - Exempt|            NULL|          NULL|           NULL|   NULL| 06/18/2018|    NULL|     NULL|           NULL|            NULL|   40.604308|-73.994965| 11| 47|  290|351718|,NTA,BORO|\n",
      "|06/18/2018|BIC-481467|HONEY CONSTRUCTIO...|            NULL|     135-16 124TH ST|SOUTH OZONE PARK|   NY|     11420|(718) 843-6320| NULL|    CL2 - Exempt|            NULL|          NULL|           NULL|   NULL| 06/18/2018|    NULL|     NULL|           NULL|            NULL|   40.669277|-73.815463| 10| 28|  838|351719|,NTA,BORO|\n",
      "|06/18/2018|BIC-488048|          HUSIC INC.|            NULL|      175 Zoe St, 6P|   Staten Island|   NY|10305-1159|(347) 268-8969| NULL|    CL2 - Exempt|            NULL|          NULL|           NULL|   NULL| 06/18/2018|    NULL|     NULL|           NULL|            NULL|   40.584504|-74.100979|  2| 50|11401|351722|,NTA,BORO|\n",
      "|06/18/2018|BIC-473305| I.V.B TRUCKING CORP|            NULL|   32-19 95th STREET|   EAST ELMHURST|   NY|     11369|(718) 213-9413| NULL|    CL2 - Exempt|            NULL|          NULL|           NULL|   NULL| 06/18/2018|    NULL|     NULL|           NULL|            NULL|   40.758182|-73.873343|  3| 21|  353|351725|,NTA,BORO|\n",
      "|06/18/2018|  BIC-2963|IBRAIM DZEMOSKI &...|IBRO'S BRICKWORK|1036 HUGUENOT AVENUE|   STATEN ISLAND|   NY|     10312|(718) 967-8044| NULL|    CL2 - Exempt|            NULL|          NULL|           NULL|   NULL| 06/18/2018|    NULL|     NULL|           NULL|            NULL|   40.528963|-74.189649|  3| 51|  198|351726|,NTA,BORO|\n",
      "|06/18/2018|BIC-490899|IG CONTAINER SERV...|            NULL|1384 BROADWAY, 7T...|        NEW YORK|   NY|     10018|(347) 620-4755| NULL|    CL2 - Exempt|            NULL|          NULL|           NULL|   NULL| 06/18/2018|    NULL|     NULL|           NULL|            NULL|   40.752577|-73.987378|  5|  4|  109|351730|,NTA,BORO|\n",
      "|06/18/2018|  BIC-3067|           IGG CORP.|            NULL|        712 AVENUE Y|        BROOKLYN|   NY|     11235|(347) 831-0149| NULL|    CL2 - Exempt|            NULL|          NULL|           NULL|   NULL| 06/18/2018|    NULL|     NULL|           NULL|            NULL|   40.589269|-73.962098| 13| 48|  370|351731|,NTA,BORO|\n",
      "|06/18/2018|BIC-492393|INIS CONTRACTING ...|            NULL|     66-14 51ST ROAD|        WOODSIDE|   NY|     11377|(718) 326-3002| NULL|    CL2 - Exempt|            NULL|          NULL|           NULL|   NULL| 06/18/2018|    NULL|     NULL|           NULL|            NULL|   40.734306|-73.898758|  5| 30|  513|351732|,NTA,BORO|\n",
      "|06/18/2018|  BIC-1613|INNERCITY RECYCLI...|            NULL|        334 Faile St|           Bronx|   NY|10474-7120|(718) 328-7334| NULL|    CL2 - Exempt|            NULL|          NULL|           NULL|   NULL| 06/18/2018|    NULL|     NULL|           NULL|            NULL|   40.807571|-73.884656|  2| 17|   93|351733|,NTA,BORO|\n",
      "|06/18/2018|BIC-485408|INTER RENOVATION INC|            NULL| 56 - 32 59TH STREET|         MASPETH|   NY|     11378|(718) 326-5606| NULL|    CL2 - Exempt|            NULL|          NULL|           NULL|   NULL| 06/18/2018|    NULL|     NULL|           NULL|            NULL|    40.72449|-73.908738|  5| 30|  531|351734|,NTA,BORO|\n",
      "|06/18/2018|BIC-488473|INTERBORO PROPERT...|            NULL|    1850 83rd Street|        Brooklyn|   NY|11214-2909|(718) 648-2723| NULL|    CL2 - Exempt|            NULL|          NULL|           NULL|   NULL| 06/18/2018|    NULL|     NULL|           NULL|            NULL|   40.608244|-73.999654| 11| 47|  278|351735|,NTA,BORO|\n",
      "+----------+----------+--------------------+----------------+--------------------+----------------+-----+----------+--------------+-----+----------------+----------------+--------------+---------------+-------+-----------+--------+---------+---------------+----------------+------------+----------+---+---+-----+------+---------+\n",
      "only showing top 20 rows\n",
      "\n"
     ]
    },
    {
     "name": "stderr",
     "output_type": "stream",
     "text": [
      "                                                                                \r"
     ]
    }
   ],
   "source": [
    "# Detect vocabulary misspelling\n",
    "\n",
    "df_vocabulary_misspelling = vocabulary_misspelling_detection(df_with_index)\n",
    "\n",
    "df_vocabulary_misspelling.show()"
   ]
  }
 ],
 "metadata": {
  "kernelspec": {
   "display_name": "spark_env",
   "language": "python",
   "name": "python3"
  },
  "language_info": {
   "codemirror_mode": {
    "name": "ipython",
    "version": 3
   },
   "file_extension": ".py",
   "mimetype": "text/x-python",
   "name": "python",
   "nbconvert_exporter": "python",
   "pygments_lexer": "ipython3",
   "version": "3.8.19"
  }
 },
 "nbformat": 4,
 "nbformat_minor": 2
}
